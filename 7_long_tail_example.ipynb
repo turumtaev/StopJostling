{
 "cells": [
  {
   "cell_type": "code",
   "execution_count": 1,
   "id": "ce531aaf",
   "metadata": {},
   "outputs": [
    {
     "name": "stdout",
     "output_type": "stream",
     "text": [
      "/home/app/repos/selfishTokens_2/nanoGPT\n"
     ]
    },
    {
     "name": "stderr",
     "output_type": "stream",
     "text": [
      "/usr/local/lib/python3.9/site-packages/IPython/core/magics/osm.py:417: UserWarning: using dhist requires you to install the `pickleshare` library.\n",
      "  self.shell.db['dhist'] = compress_dhist(dhist)[-100:]\n"
     ]
    }
   ],
   "source": [
    "%cd nanoGPT"
   ]
  },
  {
   "cell_type": "code",
   "execution_count": 2,
   "id": "d498dd55",
   "metadata": {},
   "outputs": [],
   "source": [
    "import os\n",
    "import torch\n",
    "device='cpu'\n",
    "\n",
    "from model import GPTConfig, GPT\n",
    "\n",
    "def get_model(out_dir='out/baseline/'):\n",
    "    # init from a model saved in a specific directory\n",
    "    ckpt_path = os.path.join(out_dir, 'ckpt.pt')\n",
    "    checkpoint = torch.load(ckpt_path, map_location=device)\n",
    "    gptconf = GPTConfig(**checkpoint['model_args'])\n",
    "    model = GPT(gptconf)\n",
    "    state_dict = checkpoint['model']\n",
    "    unwanted_prefix = '_orig_mod.'\n",
    "    for k,v in list(state_dict.items()):\n",
    "        if k.startswith(unwanted_prefix):\n",
    "            state_dict[k[len(unwanted_prefix):]] = state_dict.pop(k)\n",
    "    model.load_state_dict(state_dict)\n",
    "\n",
    "    model.eval()\n",
    "    return model"
   ]
  },
  {
   "cell_type": "code",
   "execution_count": 3,
   "id": "191bc3b9",
   "metadata": {},
   "outputs": [
    {
     "name": "stdout",
     "output_type": "stream",
     "text": [
      "number of parameters: 0.80M\n",
      "number of parameters: 0.80M\n"
     ]
    },
    {
     "name": "stderr",
     "output_type": "stream",
     "text": [
      "/tmp/ipykernel_51075/207514028.py:10: FutureWarning: You are using `torch.load` with `weights_only=False` (the current default value), which uses the default pickle module implicitly. It is possible to construct malicious pickle data which will execute arbitrary code during unpickling (See https://github.com/pytorch/pytorch/blob/main/SECURITY.md#untrusted-models for more details). In a future release, the default value for `weights_only` will be flipped to `True`. This limits the functions that could be executed during unpickling. Arbitrary objects will no longer be allowed to be loaded via this mode unless they are explicitly allowlisted by the user via `torch.serialization.add_safe_globals`. We recommend you start setting `weights_only=True` for any use case where you don't have full control of the loaded file. Please open an issue on GitHub for any issues related to this experimental feature.\n",
      "  checkpoint = torch.load(ckpt_path, map_location=device)\n"
     ]
    }
   ],
   "source": [
    "models = {\n",
    "    'baseline': get_model('out/baseline'),\n",
    "    'margin_2': get_model('out/proposed_margin_2')\n",
    "}"
   ]
  },
  {
   "cell_type": "code",
   "execution_count": 4,
   "id": "e8b943f5",
   "metadata": {},
   "outputs": [],
   "source": [
    "import numpy as np\n",
    "\n",
    "block_size = models['baseline'].config.block_size\n",
    "dataset = 'shakespeare_char'\n",
    "batch_size = 1\n",
    "device_type = 'cpu'\n",
    "\n",
    "data_dir = os.path.join('data', dataset)\n",
    "def get_batch(split, language='random', vocab_size=65):\n",
    "    # We recreate np.memmap every batch to avoid a memory leak\n",
    "    if split == 'train':\n",
    "        data = np.memmap(os.path.join(data_dir, 'train.bin'), dtype=np.uint16, mode='r')\n",
    "    else:\n",
    "        data = np.memmap(os.path.join(data_dir, 'val.bin'), dtype=np.uint16, mode='r')\n",
    "    \n",
    "    ix = torch.randint(len(data) - block_size, (batch_size,))\n",
    "    \n",
    "    x_list = []\n",
    "    y_list = []\n",
    "    \n",
    "    for i in ix:\n",
    "        # Determine language for each individual sample if 'random' is specified\n",
    "        current_language = language\n",
    "        if language == 'random':\n",
    "            current_language = 'big' if torch.rand(1).item() < big_language_prob else 'small'\n",
    "        \n",
    "        # Get the input and target sequences\n",
    "        x_sample = torch.from_numpy((data[i:i + block_size]).astype(np.int64))\n",
    "        y_sample = torch.from_numpy((data[i + 1:i + 1 + block_size]).astype(np.int64))\n",
    "        \n",
    "        # Modify x and y if the language is 'small'\n",
    "        if current_language == 'small':\n",
    "            x_sample = x_sample + vocab_size\n",
    "            y_sample = y_sample + vocab_size\n",
    "        \n",
    "        # Append to lists\n",
    "        x_list.append(x_sample)\n",
    "        y_list.append(y_sample)\n",
    "    \n",
    "    # Stack the lists into tensors\n",
    "    x = torch.stack(x_list)\n",
    "    y = torch.stack(y_list)\n",
    "    \n",
    "    if device_type == 'cuda':\n",
    "        # Pin arrays x, y for asynchronous GPU transfer\n",
    "        x, y = x.pin_memory().to(device, non_blocking=True), y.pin_memory().to(device, non_blocking=True)\n",
    "    else:\n",
    "        x, y = x.to(device), y.to(device)\n",
    "    return x, y"
   ]
  },
  {
   "cell_type": "code",
   "execution_count": 5,
   "id": "91ef32d0",
   "metadata": {},
   "outputs": [],
   "source": [
    "lang = 'big'\n",
    "data = get_batch('val', lang)"
   ]
  },
  {
   "cell_type": "code",
   "execution_count": 6,
   "id": "7c1ea141",
   "metadata": {},
   "outputs": [
    {
     "name": "stdout",
     "output_type": "stream",
     "text": [
      "Loading meta from data/shakespeare_char/meta.pkl...\n"
     ]
    }
   ],
   "source": [
    "import pickle\n",
    "\n",
    "meta_path = 'data/shakespeare_char/meta.pkl'\n",
    "print(f\"Loading meta from {meta_path}...\")\n",
    "with open(meta_path, 'rb') as f:\n",
    "    meta = pickle.load(f)\n",
    "# TODO want to make this more general to arbitrary encoder/decoder schemes\n",
    "stoi, itos = meta['stoi'], meta['itos']\n",
    "encode = lambda s: [stoi[c] for c in s]\n",
    "decode = lambda l: ''.join([itos[i] for i in l])"
   ]
  },
  {
   "cell_type": "code",
   "execution_count": 7,
   "id": "6a2f3b23",
   "metadata": {},
   "outputs": [],
   "source": [
    "import numpy as np\n",
    "import matplotlib.pyplot as plt\n",
    "import matplotlib.animation as animation\n",
    "\n",
    "def softmax(x):\n",
    "    return np.exp(x) / np.sum(np.exp(x), axis=-1, keepdims=True)"
   ]
  },
  {
   "cell_type": "code",
   "execution_count": 8,
   "id": "e265d739",
   "metadata": {},
   "outputs": [],
   "source": [
    "logits = {\n",
    "    name: model(*data)[0].detach().numpy() for name,model in models.items()\n",
    "}"
   ]
  },
  {
   "cell_type": "code",
   "execution_count": 11,
   "id": "ce1d2e43",
   "metadata": {},
   "outputs": [],
   "source": [
    "if lang == 'big':\n",
    "    ps = {\n",
    "        name: softmax(l[0,-1,:65]) for name, l in logits.items()\n",
    "    }\n",
    "else:\n",
    "    ps = {\n",
    "        name: softmax(l[0,-1,65:]) for name, l in logits.items()\n",
    "    }\n",
    "\n",
    "ps_sorted = {\n",
    "    name: list(p[np.argsort(-np.array(ps['baseline']))]) for name, p in ps.items()\n",
    "}\n",
    "\n",
    "# ps_sorted = {\n",
    "#     name: sorted(p, reverse=True) for name, p in ps.items()\n",
    "# }\n",
    "\n",
    "if lang == 'big':\n",
    "    gt_values = {\n",
    "        name: p[data[1][0, -1].item()-65] for name, p in ps.items()\n",
    "    }\n",
    "else:\n",
    "    gt_values = {\n",
    "        name: p[data[1][0, -1].item()-65] for name, p in ps.items()\n",
    "    }\n",
    "\n",
    "gt_ranks = {\n",
    "    name: ps_sorted[name].index(value) for name, value in gt_values.items()\n",
    "}"
   ]
  },
  {
   "cell_type": "code",
   "execution_count": 12,
   "id": "db89bb92",
   "metadata": {},
   "outputs": [],
   "source": [
    "def update_x(x):\n",
    "    if x == ' ':\n",
    "        return '\\\\s'\n",
    "    elif x == '\\n':\n",
    "        return '\\\\n'\n",
    "    return x\n",
    "\n",
    "decoded_tokens = np.argsort(-np.array(ps['baseline']))\n",
    "decoded_tokens = list(decode(decoded_tokens))\n",
    "\n",
    "decoded_tokens = [update_x(x) for x in decoded_tokens]"
   ]
  },
  {
   "cell_type": "code",
   "execution_count": null,
   "id": "550c41b4",
   "metadata": {},
   "outputs": [],
   "source": []
  },
  {
   "cell_type": "code",
   "execution_count": 14,
   "id": "0f58ab29",
   "metadata": {},
   "outputs": [
    {
     "data": {
      "image/png": "[encoded data removed]",
      "text/plain": [
       "<Figure size 864x432 with 1 Axes>"
      ]
     },
     "metadata": {
      "needs_background": "light"
     },
     "output_type": "display_data"
    }
   ],
   "source": [
    "import numpy as np\n",
    "import matplotlib.pyplot as plt\n",
    "import matplotlib.patches as mpatches\n",
    "\n",
    "bars = []\n",
    "bar_colors = []\n",
    "bar_hatches = []  # To store hatch patterns for ground truth\n",
    "bar_edges = []  # To store edge colors for ground truth\n",
    "\n",
    "for i in range(65):\n",
    "    # Add baseline bar\n",
    "    bars.append(ps_sorted['baseline'][i])\n",
    "    if i == gt_ranks['baseline']:\n",
    "        bar_colors.append('blue')  # Keep the same color\n",
    "        bar_hatches.append('///')  # Add hatch pattern for ground truth\n",
    "        bar_edges.append('black')  # Black edge for ground truth\n",
    "    else:\n",
    "        bar_colors.append('blue')  # Regular baseline color\n",
    "        bar_hatches.append('')  # No hatch for non-ground truth\n",
    "        bar_edges.append('none')  # No edge for non-ground truth\n",
    "\n",
    "    # Add margin_2 bar\n",
    "    bars.append(ps_sorted['margin_2'][i])\n",
    "    if i == gt_ranks['margin_2']:\n",
    "        bar_colors.append('red')  # Keep the same color\n",
    "        bar_hatches.append('///')  # Add hatch pattern for ground truth\n",
    "        bar_edges.append('black')  # Black edge for ground truth\n",
    "    else:\n",
    "        bar_colors.append('red')  # Regular margin_2 color\n",
    "        bar_hatches.append('')  # No hatch for non-ground truth\n",
    "        bar_edges.append('none')  # No edge for non-ground truth\n",
    "\n",
    "# Create figure and axis\n",
    "fig, ax = plt.subplots(figsize=(12, 6))\n",
    "\n",
    "# Plot the bars with hatch patterns and edge colors for ground truth\n",
    "for idx, (bar, color, hatch, edge) in enumerate(zip(bars, bar_colors, bar_hatches, bar_edges)):\n",
    "    ax.bar(idx, bar, color=color, hatch=hatch, edgecolor=edge)\n",
    "\n",
    "# Plot the threshold line\n",
    "th = gt_values['margin_2'] * np.exp(-2)\n",
    "plt.plot([0, 130], [th, th], label='threshold', color='black')\n",
    "\n",
    "\n",
    "plt.title(r'$P_{\\theta}(v_i)$ Comparison (Baseline vs Proposed)', fontsize=20)\n",
    "plt.xlabel(r'Tokens (sorted by $P_{\\theta}(v_i)$ from baseline)', fontsize=20)\n",
    "plt.ylabel(r'$P_{\\theta}(v_i)$ (log scale)', fontsize=20)\n",
    "\n",
    "# Define legend patches\n",
    "red_patch = mpatches.Patch(color='red', label=r'$P_{\\theta}(v_i)$ from Proposed (margin=2)')\n",
    "blue_patch = mpatches.Patch(color='blue', label=r'$P_{\\theta}(v_i)$ from Baseline')\n",
    "black_patch = mpatches.Patch(color='black', label='Threshold from Proposed')\n",
    "# Ground truth labels for ornamented bars\n",
    "gt_baseline_patch = mpatches.Patch(facecolor='blue', hatch='///', edgecolor='black', label=r'$P_{\\theta}(x_t)$ from Baseline')\n",
    "gt_margin_patch = mpatches.Patch(facecolor='red', hatch='///', edgecolor='black', label=r'$P_{\\theta}(x_t)$ from Proposed (margin=2)')\n",
    "\n",
    "# Add all the patches to the legend\n",
    "plt.legend(handles=[red_patch, gt_margin_patch, blue_patch, gt_baseline_patch, black_patch], fontsize=16)\n",
    "\n",
    "# Use log scale for y-axis\n",
    "plt.yscale('log')\n",
    "\n",
    "plt.xticks(ticks=np.arange(len(decoded_tokens))*2, labels=decoded_tokens, fontsize=16)\n",
    "plt.yticks(fontsize=20)\n",
    "\n",
    "# Add grid and set x-axis limits\n",
    "plt.grid(True, which='major', linestyle='--', linewidth=0.7, axis='y')\n",
    "plt.xlim((-1, 130))\n",
    "\n",
    "plt.tight_layout()\n",
    "# Save the plot as a PDF file\n",
    "plt.savefig(\"../assets/long_tail_example.pdf\", format=\"pdf\")\n",
    "\n",
    "# Display the plot\n",
    "plt.show()\n"
   ]
  },
  {
   "cell_type": "code",
   "execution_count": 122,
   "id": "fbe9b0c4",
   "metadata": {},
   "outputs": [
    {
     "data": {
      "text/plain": [
       "'\\n\\nGREMIO:\\nTwo thousand ducats by the year of land!\\nMy land amoun'"
      ]
     },
     "execution_count": 122,
     "metadata": {},
     "output_type": "execute_result"
    }
   ],
   "source": [
    "decode(data[0][0].numpy()-65)"
   ]
  },
  {
   "cell_type": "code",
   "execution_count": null,
   "id": "b2464b98",
   "metadata": {},
   "outputs": [],
   "source": []
  }
 ],
 "metadata": {
  "kernelspec": {
   "display_name": "Python 3 (ipykernel)",
   "language": "python",
   "name": "python3"
  },
  "language_info": {
   "codemirror_mode": {
    "name": "ipython",
    "version": 3
   },
   "file_extension": ".py",
   "mimetype": "text/x-python",
   "name": "python",
   "nbconvert_exporter": "python",
   "pygments_lexer": "ipython3",
   "version": "3.9.10"
  }
 },
 "nbformat": 4,
 "nbformat_minor": 5
}
