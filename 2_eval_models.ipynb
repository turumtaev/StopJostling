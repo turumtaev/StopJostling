{
 "cells": [
  {
   "cell_type": "code",
   "execution_count": 1,
   "id": "091da33e",
   "metadata": {},
   "outputs": [
    {
     "name": "stdout",
     "output_type": "stream",
     "text": [
      "/home/app/repos/selfishTokens_2/nanoGPT\n"
     ]
    },
    {
     "name": "stderr",
     "output_type": "stream",
     "text": [
      "/usr/local/lib/python3.9/site-packages/IPython/core/magics/osm.py:417: UserWarning: using dhist requires you to install the `pickleshare` library.\n",
      "  self.shell.db['dhist'] = compress_dhist(dhist)[-100:]\n"
     ]
    }
   ],
   "source": [
    "%cd nanoGPT"
   ]
  },
  {
   "cell_type": "code",
   "execution_count": 2,
   "id": "472946f4",
   "metadata": {},
   "outputs": [],
   "source": [
    "import subprocess\n",
    "import sys\n",
    "\n",
    "def run_eval(args):\n",
    "    \"\"\"\n",
    "    Runs the eval script with the given arguments and streams the output in real time in Jupyter Notebook.\n",
    "    \n",
    "    Args:\n",
    "        args (dict): Dictionary of command-line arguments where keys are the argument names \n",
    "                     and values are the argument values.\n",
    "    \"\"\"\n",
    "    # Base command with the script and config file\n",
    "    command = [\n",
    "        \"python\", \"eval.py\"\n",
    "    ] + [f'--{k}={v}' for k, v in args.items()]\n",
    "\n",
    "    # Use Popen to continuously capture and stream the output\n",
    "    with subprocess.Popen(command, stdout=subprocess.PIPE, stderr=subprocess.PIPE, text=True, bufsize=1) as process:\n",
    "        for line in process.stdout:\n",
    "            print(line, end=\"\")  # Print the output as it arrives\n",
    "            sys.stdout.flush()  # Ensure immediate flush of the output in Jupyter\n",
    "        \n",
    "        # Wait for the process to complete and handle errors if they occur\n",
    "        process.wait()  # Ensure the process completes\n",
    "        if process.returncode != 0:\n",
    "            # In case of errors, print the stderr\n",
    "            error_output = process.stderr.read()\n",
    "            print(\"Error:\", error_output)"
   ]
  },
  {
   "cell_type": "code",
   "execution_count": 10,
   "id": "46b3543f",
   "metadata": {},
   "outputs": [
    {
     "name": "stderr",
     "output_type": "stream",
     "text": [
      "\r",
      "  0%|          | 0/6 [00:00<?, ?it/s]"
     ]
    },
    {
     "name": "stdout",
     "output_type": "stream",
     "text": [
      "Overriding: out_dir = out/baseline\n",
      "number of parameters: 0.80M\n",
      "Results saved to out/baseline/eval_results.pth\n"
     ]
    },
    {
     "name": "stderr",
     "output_type": "stream",
     "text": [
      "\r",
      " 17%|█▋        | 1/6 [00:08<00:44,  8.88s/it]"
     ]
    },
    {
     "name": "stdout",
     "output_type": "stream",
     "text": [
      "Overriding: out_dir = out/slo\n",
      "number of parameters: 0.80M\n",
      "Results saved to out/slo/eval_results.pth\n"
     ]
    },
    {
     "name": "stderr",
     "output_type": "stream",
     "text": [
      "\r",
      " 33%|███▎      | 2/6 [00:17<00:34,  8.52s/it]"
     ]
    },
    {
     "name": "stdout",
     "output_type": "stream",
     "text": [
      "Overriding: out_dir = out/proposed_margin_8\n",
      "number of parameters: 0.80M\n",
      "Results saved to out/proposed_margin_8/eval_results.pth\n"
     ]
    },
    {
     "name": "stderr",
     "output_type": "stream",
     "text": [
      "\r",
      " 50%|█████     | 3/6 [00:25<00:24,  8.27s/it]"
     ]
    },
    {
     "name": "stdout",
     "output_type": "stream",
     "text": [
      "Overriding: out_dir = out/proposed_margin_4\n",
      "number of parameters: 0.80M\n",
      "Results saved to out/proposed_margin_4/eval_results.pth\n"
     ]
    },
    {
     "name": "stderr",
     "output_type": "stream",
     "text": [
      "\r",
      " 67%|██████▋   | 4/6 [00:37<00:19,  9.89s/it]"
     ]
    },
    {
     "name": "stdout",
     "output_type": "stream",
     "text": [
      "Overriding: out_dir = out/proposed_margin_2\n",
      "number of parameters: 0.80M\n",
      "Results saved to out/proposed_margin_2/eval_results.pth\n"
     ]
    },
    {
     "name": "stderr",
     "output_type": "stream",
     "text": [
      "\r",
      " 83%|████████▎ | 5/6 [00:52<00:11, 11.74s/it]"
     ]
    },
    {
     "name": "stdout",
     "output_type": "stream",
     "text": [
      "Overriding: out_dir = out/proposed_margin_1\n",
      "number of parameters: 0.80M\n",
      "Results saved to out/proposed_margin_1/eval_results.pth\n"
     ]
    },
    {
     "name": "stderr",
     "output_type": "stream",
     "text": [
      "100%|██████████| 6/6 [01:03<00:00, 10.64s/it]\n"
     ]
    }
   ],
   "source": [
    "from tqdm.auto import tqdm\n",
    "\n",
    "models = [\n",
    "    'baseline',\n",
    "    'slo',\n",
    "    'proposed_margin_8',\n",
    "    'proposed_margin_4',\n",
    "    'proposed_margin_2',\n",
    "    'proposed_margin_1',\n",
    "]\n",
    "\n",
    "for model_name in tqdm(models):\n",
    "    args = {\n",
    "        \"out_dir\": f\"out/{model_name}\"\n",
    "    }\n",
    "    run_eval(args)"
   ]
  },
  {
   "cell_type": "code",
   "execution_count": 13,
   "id": "70b7056f",
   "metadata": {},
   "outputs": [
    {
     "name": "stderr",
     "output_type": "stream",
     "text": [
      "\r",
      "  0%|          | 0/2 [00:00<?, ?it/s]"
     ]
    },
    {
     "name": "stdout",
     "output_type": "stream",
     "text": [
      "Overriding: out_dir = out/agg_0.02_1600\n",
      "number of parameters: 0.80M\n",
      "Results saved to out/agg_0.02_1600/eval_results.pth\n"
     ]
    },
    {
     "name": "stderr",
     "output_type": "stream",
     "text": [
      "\r",
      " 50%|█████     | 1/2 [00:14<00:14, 14.19s/it]"
     ]
    },
    {
     "name": "stdout",
     "output_type": "stream",
     "text": [
      "Overriding: out_dir = out/agg_0.2_1600\n",
      "number of parameters: 0.80M\n",
      "Results saved to out/agg_0.2_1600/eval_results.pth\n"
     ]
    },
    {
     "name": "stderr",
     "output_type": "stream",
     "text": [
      "100%|██████████| 2/2 [00:26<00:00, 13.03s/it]\n"
     ]
    }
   ],
   "source": [
    "from tqdm.auto import tqdm\n",
    "\n",
    "models = [\n",
    "    'agg_0.02_1600',\n",
    "    'agg_0.2_1600',\n",
    "]\n",
    "\n",
    "for model_name in tqdm(models):\n",
    "    args = {\n",
    "        \"out_dir\": f\"out/{model_name}\"\n",
    "    }\n",
    "    run_eval(args)"
   ]
  },
  {
   "cell_type": "code",
   "execution_count": 15,
   "id": "423a19c2",
   "metadata": {},
   "outputs": [
    {
     "name": "stderr",
     "output_type": "stream",
     "text": [
      "\r",
      "  0%|          | 0/1 [00:00<?, ?it/s]"
     ]
    },
    {
     "name": "stdout",
     "output_type": "stream",
     "text": [
      "Overriding: out_dir = out/cosreg_1\n",
      "number of parameters: 0.80M\n",
      "Results saved to out/cosreg_1/eval_results.pth\n"
     ]
    },
    {
     "name": "stderr",
     "output_type": "stream",
     "text": [
      "100%|██████████| 1/1 [00:08<00:00,  8.85s/it]\n"
     ]
    }
   ],
   "source": [
    "from tqdm.auto import tqdm\n",
    "\n",
    "models = [\n",
    "    'cosreg_1',\n",
    "]\n",
    "\n",
    "for model_name in tqdm(models):\n",
    "    args = {\n",
    "        \"out_dir\": f\"out/{model_name}\"\n",
    "    }\n",
    "    run_eval(args)"
   ]
  },
  {
   "cell_type": "code",
   "execution_count": 10,
   "id": "3f058db1",
   "metadata": {},
   "outputs": [
    {
     "name": "stderr",
     "output_type": "stream",
     "text": [
      "/usr/local/lib/python3.9/site-packages/tqdm/auto.py:21: TqdmWarning: IProgress not found. Please update jupyter and ipywidgets. See https://ipywidgets.readthedocs.io/en/stable/user_install.html\n",
      "  from .autonotebook import tqdm as notebook_tqdm\n",
      "  0%|          | 0/1 [00:00<?, ?it/s]"
     ]
    },
    {
     "name": "stdout",
     "output_type": "stream",
     "text": [
      "Overriding: out_dir = out/adv_0.05\n",
      "number of parameters: 0.80M\n",
      "Results saved to out/adv_0.05/eval_results.pth\n"
     ]
    },
    {
     "name": "stderr",
     "output_type": "stream",
     "text": [
      "100%|██████████| 1/1 [00:08<00:00,  8.84s/it]\n"
     ]
    }
   ],
   "source": [
    "from tqdm.auto import tqdm\n",
    "\n",
    "models = [\n",
    "    'adv_0.05'\n",
    "]\n",
    "\n",
    "for model_name in tqdm(models):\n",
    "    args = {\n",
    "        \"out_dir\": f\"out/{model_name}\"\n",
    "    }\n",
    "    run_eval(args)"
   ]
  },
  {
   "cell_type": "code",
   "execution_count": 19,
   "id": "17023f3a",
   "metadata": {},
   "outputs": [
    {
     "name": "stderr",
     "output_type": "stream",
     "text": [
      "\r",
      "  0%|          | 0/3 [00:00<?, ?it/s]"
     ]
    },
    {
     "name": "stdout",
     "output_type": "stream",
     "text": [
      "Overriding: out_dir = out/proposed_margin_1_0.46\n",
      "number of parameters: 0.80M\n",
      "Results saved to out/proposed_margin_1_0.46/eval_results.pth\n"
     ]
    },
    {
     "name": "stderr",
     "output_type": "stream",
     "text": [
      "\r",
      " 33%|███▎      | 1/3 [00:07<00:15,  7.78s/it]"
     ]
    },
    {
     "name": "stdout",
     "output_type": "stream",
     "text": [
      "Overriding: out_dir = out/proposed_margin_0.5\n",
      "number of parameters: 0.80M\n",
      "Results saved to out/proposed_margin_0.5/eval_results.pth\n"
     ]
    },
    {
     "name": "stderr",
     "output_type": "stream",
     "text": [
      "\r",
      " 67%|██████▋   | 2/3 [00:17<00:09,  9.14s/it]"
     ]
    },
    {
     "name": "stdout",
     "output_type": "stream",
     "text": [
      "Overriding: out_dir = out/proposed_margin_0\n"
     ]
    },
    {
     "name": "stderr",
     "output_type": "stream",
     "text": [
      "100%|██████████| 3/3 [00:19<00:00,  6.59s/it]"
     ]
    },
    {
     "name": "stdout",
     "output_type": "stream",
     "text": [
      "Error: /home/app/repos/selfishTokens_2/nanoGPT/eval.py:35: FutureWarning: You are using `torch.load` with `weights_only=False` (the current default value), which uses the default pickle module implicitly. It is possible to construct malicious pickle data which will execute arbitrary code during unpickling (See https://github.com/pytorch/pytorch/blob/main/SECURITY.md#untrusted-models for more details). In a future release, the default value for `weights_only` will be flipped to `True`. This limits the functions that could be executed during unpickling. Arbitrary objects will no longer be allowed to be loaded via this mode unless they are explicitly allowlisted by the user via `torch.serialization.add_safe_globals`. We recommend you start setting `weights_only=True` for any use case where you don't have full control of the loaded file. Please open an issue on GitHub for any issues related to this experimental feature.\n",
      "  checkpoint = torch.load(ckpt_path, map_location=device)\n",
      "Traceback (most recent call last):\n",
      "  File \"/home/app/repos/selfishTokens_2/nanoGPT/eval.py\", line 35, in <module>\n",
      "    checkpoint = torch.load(ckpt_path, map_location=device)\n",
      "  File \"/usr/local/lib/python3.9/site-packages/torch/serialization.py\", line 1065, in load\n",
      "    with _open_file_like(f, 'rb') as opened_file:\n",
      "  File \"/usr/local/lib/python3.9/site-packages/torch/serialization.py\", line 468, in _open_file_like\n",
      "    return _open_file(name_or_buffer, mode)\n",
      "  File \"/usr/local/lib/python3.9/site-packages/torch/serialization.py\", line 449, in __init__\n",
      "    super().__init__(open(name, mode))\n",
      "FileNotFoundError: [Errno 2] No such file or directory: 'out/proposed_margin_0/ckpt.pt'\n",
      "\n"
     ]
    },
    {
     "name": "stderr",
     "output_type": "stream",
     "text": [
      "\n"
     ]
    }
   ],
   "source": [
    "from tqdm.auto import tqdm\n",
    "\n",
    "models = [\n",
    "    'proposed_margin_1_0.46',\n",
    "    'proposed_margin_0.5',\n",
    "]\n",
    "\n",
    "for model_name in tqdm(models):\n",
    "    args = {\n",
    "        \"out_dir\": f\"out/{model_name}\"\n",
    "    }\n",
    "    run_eval(args)"
   ]
  },
  {
   "cell_type": "code",
   "execution_count": 18,
   "id": "2cce20b4",
   "metadata": {},
   "outputs": [
    {
     "name": "stderr",
     "output_type": "stream",
     "text": [
      "\r",
      "  0%|          | 0/1 [00:00<?, ?it/s]"
     ]
    },
    {
     "name": "stdout",
     "output_type": "stream",
     "text": [
      "Overriding: out_dir = out/cwt\n",
      "number of parameters: 0.80M\n",
      "Results saved to out/cwt/eval_results.pth\n"
     ]
    },
    {
     "name": "stderr",
     "output_type": "stream",
     "text": [
      "100%|██████████| 1/1 [00:11<00:00, 11.50s/it]\n"
     ]
    }
   ],
   "source": [
    "from tqdm.auto import tqdm\n",
    "\n",
    "models = [\n",
    "    'cwt',\n",
    "]\n",
    "\n",
    "for model_name in tqdm(models):\n",
    "    args = {\n",
    "        \"out_dir\": f\"out/{model_name}\"\n",
    "    }\n",
    "    run_eval(args)"
   ]
  },
  {
   "cell_type": "code",
   "execution_count": 21,
   "id": "7f61c23a",
   "metadata": {},
   "outputs": [
    {
     "name": "stderr",
     "output_type": "stream",
     "text": [
      "\r",
      "  0%|          | 0/1 [00:00<?, ?it/s]"
     ]
    },
    {
     "name": "stdout",
     "output_type": "stream",
     "text": [
      "Overriding: out_dir = out/proposed_margin_0.0\n",
      "number of parameters: 0.80M\n",
      "Results saved to out/proposed_margin_0.0/eval_results.pth\n"
     ]
    },
    {
     "name": "stderr",
     "output_type": "stream",
     "text": [
      "100%|██████████| 1/1 [00:08<00:00,  8.04s/it]\n"
     ]
    }
   ],
   "source": [
    "from tqdm.auto import tqdm\n",
    "\n",
    "models = [\n",
    "    'proposed_margin_0.0',\n",
    "]\n",
    "\n",
    "for model_name in tqdm(models):\n",
    "    args = {\n",
    "        \"out_dir\": f\"out/{model_name}\"\n",
    "    }\n",
    "    run_eval(args)\n"
   ]
  },
  {
   "cell_type": "code",
   "execution_count": 24,
   "id": "566165ab",
   "metadata": {},
   "outputs": [
    {
     "name": "stderr",
     "output_type": "stream",
     "text": [
      "\r",
      "  0%|          | 0/3 [00:00<?, ?it/s]"
     ]
    },
    {
     "name": "stdout",
     "output_type": "stream",
     "text": [
      "Overriding: out_dir = out/baseline_wo_weight_tying\n",
      "Overriding: weight_tying = False\n",
      "number of parameters: 0.82M\n",
      "Results saved to out/baseline_wo_weight_tying/eval_results.pth\n"
     ]
    },
    {
     "name": "stderr",
     "output_type": "stream",
     "text": [
      "\r",
      " 33%|███▎      | 1/3 [00:06<00:13,  6.72s/it]"
     ]
    },
    {
     "name": "stdout",
     "output_type": "stream",
     "text": [
      "Overriding: out_dir = out/proposed_margin_1.0_wo_weight_tying\n",
      "Overriding: weight_tying = False\n",
      "number of parameters: 0.82M\n",
      "Results saved to out/proposed_margin_1.0_wo_weight_tying/eval_results.pth\n"
     ]
    },
    {
     "name": "stderr",
     "output_type": "stream",
     "text": [
      "\r",
      " 67%|██████▋   | 2/3 [00:15<00:07,  7.92s/it]"
     ]
    },
    {
     "name": "stdout",
     "output_type": "stream",
     "text": [
      "Overriding: out_dir = out/proposed_margin_2.0_wo_weight_tying\n",
      "Overriding: weight_tying = False\n",
      "number of parameters: 0.82M\n",
      "Results saved to out/proposed_margin_2.0_wo_weight_tying/eval_results.pth\n"
     ]
    },
    {
     "name": "stderr",
     "output_type": "stream",
     "text": [
      "100%|██████████| 3/3 [00:23<00:00,  7.78s/it]\n"
     ]
    }
   ],
   "source": [
    "from tqdm.auto import tqdm\n",
    "\n",
    "models = [\n",
    "    'baseline_wo_weight_tying',\n",
    "    'proposed_margin_1.0_wo_weight_tying',\n",
    "    'proposed_margin_2.0_wo_weight_tying'\n",
    "]\n",
    "\n",
    "for model_name in tqdm(models):\n",
    "    args = {\n",
    "        \"out_dir\": f\"out/{model_name}\",\n",
    "        \"weight_tying\": \"False\"\n",
    "    }\n",
    "    run_eval(args)\n"
   ]
  },
  {
   "cell_type": "code",
   "execution_count": 27,
   "id": "8c122924",
   "metadata": {},
   "outputs": [
    {
     "name": "stderr",
     "output_type": "stream",
     "text": [
      "\r",
      "  0%|          | 0/2 [00:00<?, ?it/s]"
     ]
    },
    {
     "name": "stdout",
     "output_type": "stream",
     "text": [
      "Overriding: out_dir = out/proposed_margin_1.0_separated_embeddings\n",
      "number of parameters: 0.80M\n",
      "Results saved to out/proposed_margin_1.0_separated_embeddings/eval_results.pth\n"
     ]
    },
    {
     "name": "stderr",
     "output_type": "stream",
     "text": [
      "\r",
      " 50%|█████     | 1/2 [00:12<00:12, 12.65s/it]"
     ]
    },
    {
     "name": "stdout",
     "output_type": "stream",
     "text": [
      "Overriding: out_dir = out/proposed_margin_2.0_separated_embeddings\n",
      "number of parameters: 0.80M\n",
      "Results saved to out/proposed_margin_2.0_separated_embeddings/eval_results.pth\n"
     ]
    },
    {
     "name": "stderr",
     "output_type": "stream",
     "text": [
      "100%|██████████| 2/2 [00:26<00:00, 13.38s/it]\n"
     ]
    }
   ],
   "source": [
    "from tqdm.auto import tqdm\n",
    "\n",
    "models = [\n",
    "    'proposed_margin_1.0_separated_embeddings',\n",
    "    'proposed_margin_2.0_separated_embeddings'\n",
    "]\n",
    "\n",
    "for model_name in tqdm(models):\n",
    "    args = {\n",
    "        \"out_dir\": f\"out/{model_name}\",\n",
    "    }\n",
    "    run_eval(args)\n"
   ]
  },
  {
   "cell_type": "code",
   "execution_count": 28,
   "id": "a156a7b6",
   "metadata": {},
   "outputs": [
    {
     "name": "stdout",
     "output_type": "stream",
     "text": [
      "Overriding: out_dir = out/softminus_margin_1.0_1.0\n",
      "number of parameters: 0.80M\n",
      "Results saved to out/softminus_margin_1.0_1.0/eval_results.pth\n",
      "Overriding: out_dir = out/softminus_margin_1.0_5.0\n",
      "number of parameters: 0.80M\n",
      "Results saved to out/softminus_margin_1.0_5.0/eval_results.pth\n",
      "Overriding: out_dir = out/softminus_margin_2.0_1.0\n",
      "number of parameters: 0.80M\n",
      "Results saved to out/softminus_margin_2.0_1.0/eval_results.pth\n",
      "Overriding: out_dir = out/softminus_margin_2.0_5.0\n",
      "number of parameters: 0.80M\n",
      "Results saved to out/softminus_margin_2.0_5.0/eval_results.pth\n"
     ]
    }
   ],
   "source": [
    "for margin in [1.0, 2.0]:\n",
    "    for softminus_c in [1.0, 5.0]:\n",
    "        args = {\n",
    "            \"out_dir\": f\"out/softminus_margin_{margin}_{softminus_c}\"\n",
    "        }\n",
    "        run_eval(args)"
   ]
  },
  {
   "cell_type": "code",
   "execution_count": 29,
   "id": "44f83201",
   "metadata": {},
   "outputs": [
    {
     "name": "stdout",
     "output_type": "stream",
     "text": [
      "Overriding: out_dir = out/softminus_margin_1.0_1.0_threshold_detached\n",
      "number of parameters: 0.80M\n",
      "Results saved to out/softminus_margin_1.0_1.0_threshold_detached/eval_results.pth\n",
      "Overriding: out_dir = out/softminus_margin_1.0_5.0_threshold_detached\n",
      "number of parameters: 0.80M\n",
      "Results saved to out/softminus_margin_1.0_5.0_threshold_detached/eval_results.pth\n",
      "Overriding: out_dir = out/softminus_margin_2.0_1.0_threshold_detached\n",
      "number of parameters: 0.80M\n",
      "Results saved to out/softminus_margin_2.0_1.0_threshold_detached/eval_results.pth\n",
      "Overriding: out_dir = out/softminus_margin_2.0_5.0_threshold_detached\n",
      "number of parameters: 0.80M\n",
      "Results saved to out/softminus_margin_2.0_5.0_threshold_detached/eval_results.pth\n"
     ]
    }
   ],
   "source": [
    "for margin in [1.0, 2.0]:\n",
    "    for softminus_c in [1.0, 5.0]:\n",
    "        args = {\n",
    "            \"out_dir\": f\"out/softminus_margin_{margin}_{softminus_c}_threshold_detached\"\n",
    "        }\n",
    "        run_eval(args)"
   ]
  },
  {
   "cell_type": "code",
   "execution_count": 32,
   "id": "4f0c3a39",
   "metadata": {},
   "outputs": [
    {
     "name": "stdout",
     "output_type": "stream",
     "text": [
      "Overriding: out_dir = out/proposed_margin_1.0_detached_under_threshold\n",
      "number of parameters: 0.80M\n",
      "Results saved to out/proposed_margin_1.0_detached_under_threshold/eval_results.pth\n",
      "Overriding: out_dir = out/proposed_margin_2.0_detached_under_threshold\n",
      "number of parameters: 0.80M\n",
      "Results saved to out/proposed_margin_2.0_detached_under_threshold/eval_results.pth\n"
     ]
    }
   ],
   "source": [
    "for margin in [1.0, 2.0]:\n",
    "    args = {\n",
    "        \"out_dir\": f\"out/proposed_margin_{margin}_detached_under_threshold\",\n",
    "    }\n",
    "    run_eval(args)"
   ]
  },
  {
   "cell_type": "code",
   "execution_count": 31,
   "id": "b27e7ffe",
   "metadata": {},
   "outputs": [
    {
     "name": "stdout",
     "output_type": "stream",
     "text": [
      "Overriding: out_dir = out/proposed_margin_by_weight_alpha_32.0\n",
      "number of parameters: 0.80M\n",
      "Results saved to out/proposed_margin_by_weight_alpha_32.0/eval_results.pth\n",
      "Overriding: out_dir = out/proposed_margin_by_weight_alpha_16.0\n",
      "number of parameters: 0.80M\n",
      "Results saved to out/proposed_margin_by_weight_alpha_16.0/eval_results.pth\n",
      "Overriding: out_dir = out/proposed_margin_by_weight_alpha_8.0\n",
      "number of parameters: 0.80M\n",
      "Results saved to out/proposed_margin_by_weight_alpha_8.0/eval_results.pth\n",
      "Overriding: out_dir = out/proposed_margin_by_weight_alpha_4.0\n",
      "number of parameters: 0.80M\n",
      "Results saved to out/proposed_margin_by_weight_alpha_4.0/eval_results.pth\n",
      "Overriding: out_dir = out/proposed_margin_by_weight_alpha_2.0\n",
      "number of parameters: 0.80M\n",
      "Results saved to out/proposed_margin_by_weight_alpha_2.0/eval_results.pth\n",
      "Overriding: out_dir = out/proposed_margin_by_weight_alpha_1.0\n",
      "number of parameters: 0.80M\n",
      "Results saved to out/proposed_margin_by_weight_alpha_1.0/eval_results.pth\n",
      "Overriding: out_dir = out/proposed_margin_by_weight_alpha_0.5\n",
      "number of parameters: 0.80M\n",
      "Results saved to out/proposed_margin_by_weight_alpha_0.5/eval_results.pth\n"
     ]
    }
   ],
   "source": [
    "for margin_by_weight_alpha in [32.0, 16.0, 8.0, 4.0, 2.0, 1.0, 0.5]:\n",
    "    args = {\n",
    "        \"out_dir\": f\"out/proposed_margin_by_weight_alpha_{margin_by_weight_alpha}\",\n",
    "    }\n",
    "    run_eval(args)"
   ]
  },
  {
   "cell_type": "code",
   "execution_count": 3,
   "id": "9710bb09",
   "metadata": {},
   "outputs": [
    {
     "name": "stdout",
     "output_type": "stream",
     "text": [
      "Overriding: out_dir = out/proposed_margin_1.0_T_0.44_separated_embeddings\n",
      "number of parameters: 0.80M\n",
      "Results saved to out/proposed_margin_1.0_T_0.44_separated_embeddings/eval_results.pth\n"
     ]
    }
   ],
   "source": [
    "args = {\n",
    "    \"out_dir\": f\"out/proposed_margin_1.0_T_0.44_separated_embeddings\",\n",
    "}\n",
    "run_eval(args)"
   ]
  },
  {
   "cell_type": "code",
   "execution_count": 11,
   "id": "0d430a5a",
   "metadata": {},
   "outputs": [
    {
     "name": "stdout",
     "output_type": "stream",
     "text": [
      "Overriding: out_dir = out/proposed_margin_by_weight_type_3_alpha_0.125\n",
      "number of parameters: 0.80M\n",
      "Results saved to out/proposed_margin_by_weight_type_3_alpha_0.125/eval_results.pth\n",
      "Overriding: out_dir = out/proposed_margin_by_weight_type_3_alpha_0.0625\n",
      "number of parameters: 0.80M\n",
      "Results saved to out/proposed_margin_by_weight_type_3_alpha_0.0625/eval_results.pth\n",
      "Overriding: out_dir = out/proposed_margin_by_weight_type_3_alpha_0.04\n",
      "number of parameters: 0.80M\n",
      "Results saved to out/proposed_margin_by_weight_type_3_alpha_0.04/eval_results.pth\n",
      "Overriding: out_dir = out/proposed_margin_by_weight_type_3_alpha_0.02\n",
      "number of parameters: 0.80M\n",
      "Results saved to out/proposed_margin_by_weight_type_3_alpha_0.02/eval_results.pth\n",
      "Overriding: out_dir = out/proposed_margin_by_weight_type_3_alpha_0.01\n",
      "number of parameters: 0.80M\n",
      "Results saved to out/proposed_margin_by_weight_type_3_alpha_0.01/eval_results.pth\n"
     ]
    }
   ],
   "source": [
    "for margin_by_weight_alpha in [2.0, 1.0, 0.5, 0.25, 0.125, 0.0625, 0.04, 0.02, 0.01]:\n",
    "    args = {\n",
    "        \"out_dir\": f\"out/proposed_margin_by_weight_type_3_alpha_{margin_by_weight_alpha}\",\n",
    "    }\n",
    "    run_eval(args)"
   ]
  },
  {
   "cell_type": "code",
   "execution_count": 12,
   "id": "9c959280",
   "metadata": {},
   "outputs": [
    {
     "name": "stdout",
     "output_type": "stream",
     "text": [
      "Overriding: out_dir = out/proposed_margin_by_weight_type_3_alpha_0.04_SE\n",
      "number of parameters: 0.80M\n",
      "Results saved to out/proposed_margin_by_weight_type_3_alpha_0.04_SE/eval_results.pth\n",
      "Overriding: out_dir = out/proposed_margin_by_weight_type_3_alpha_0.02_SE\n",
      "number of parameters: 0.80M\n",
      "Results saved to out/proposed_margin_by_weight_type_3_alpha_0.02_SE/eval_results.pth\n",
      "Overriding: out_dir = out/proposed_margin_by_weight_type_3_alpha_0.01_SE\n",
      "number of parameters: 0.80M\n",
      "Results saved to out/proposed_margin_by_weight_type_3_alpha_0.01_SE/eval_results.pth\n"
     ]
    }
   ],
   "source": [
    "for margin_by_weight_alpha in [0.5, 0.25, 0.125, 0.0625, 0.04, 0.02, 0.01]:\n",
    "    args = {\n",
    "        \"out_dir\": f\"out/proposed_margin_by_weight_type_3_alpha_{margin_by_weight_alpha}_SE\",\n",
    "    }\n",
    "    run_eval(args)"
   ]
  },
  {
   "cell_type": "code",
   "execution_count": 14,
   "id": "926831a5",
   "metadata": {},
   "outputs": [
    {
     "name": "stdout",
     "output_type": "stream",
     "text": [
      "Overriding: out_dir = out/proposed_margin_1.0_T_1.0_separated_embeddings\n",
      "number of parameters: 0.80M\n",
      "Results saved to out/proposed_margin_1.0_T_1.0_separated_embeddings/eval_results.pth\n"
     ]
    }
   ],
   "source": [
    "margin = 1.0\n",
    "for temperature in [1.0]: # , 0.9, 0.8, 0.7, 0.6, 0.5, 0.4, 0.3]:\n",
    "    args = {\n",
    "        \"out_dir\": f\"out/proposed_margin_{margin}_T_{temperature}_separated_embeddings\"\n",
    "    }\n",
    "    run_eval(args)"
   ]
  },
  {
   "cell_type": "code",
   "execution_count": 16,
   "id": "1864fed1",
   "metadata": {},
   "outputs": [
    {
     "name": "stdout",
     "output_type": "stream",
     "text": [
      "Overriding: out_dir = out/proposed_margin_4.0_wo_weight_tying_SE\n",
      "Overriding: weight_tying = False\n",
      "number of parameters: 0.82M\n",
      "Results saved to out/proposed_margin_4.0_wo_weight_tying_SE/eval_results.pth\n"
     ]
    }
   ],
   "source": [
    "for margin in [1.0, 2.0, 4.0]:\n",
    "    args = {\n",
    "        \"out_dir\": f\"out/proposed_margin_{margin}_wo_weight_tying_SE\",\n",
    "        \"weight_tying\": \"False\"\n",
    "    }\n",
    "    run_eval(args)"
   ]
  },
  {
   "cell_type": "code",
   "execution_count": 15,
   "id": "a691ad72",
   "metadata": {},
   "outputs": [
    {
     "name": "stdout",
     "output_type": "stream",
     "text": [
      "Overriding: out_dir = out/baseline_wo_weight_tying_SE\n",
      "Overriding: weight_tying = False\n",
      "number of parameters: 0.82M\n",
      "Results saved to out/baseline_wo_weight_tying_SE/eval_results.pth\n"
     ]
    }
   ],
   "source": [
    "args = {\n",
    "    \"out_dir\": f\"out/baseline_wo_weight_tying_SE\",\n",
    "    \"weight_tying\": \"False\"\n",
    "}\n",
    "run_eval(args)"
   ]
  },
  {
   "cell_type": "code",
   "execution_count": 13,
   "id": "7dead77d",
   "metadata": {},
   "outputs": [
    {
     "name": "stdout",
     "output_type": "stream",
     "text": [
      "Overriding: out_dir = out/proposed_margin_by_weight_type_3_alpha_0.0625_SE_2\n",
      "number of parameters: 0.80M\n",
      "Results saved to out/proposed_margin_by_weight_type_3_alpha_0.0625_SE_2/eval_results.pth\n"
     ]
    }
   ],
   "source": [
    "for margin_by_weight_alpha in [0.0625]:\n",
    "    args = {\n",
    "        \"out_dir\": f\"out/proposed_margin_by_weight_type_3_alpha_{margin_by_weight_alpha}_SE_2\",\n",
    "    }\n",
    "    run_eval(args)"
   ]
  },
  {
   "cell_type": "code",
   "execution_count": 17,
   "id": "207cf4dc",
   "metadata": {},
   "outputs": [
    {
     "name": "stdout",
     "output_type": "stream",
     "text": [
      "Overriding: out_dir = out/proposed_margin_1.5_separated_embeddings\n",
      "number of parameters: 0.80M\n",
      "Results saved to out/proposed_margin_1.5_separated_embeddings/eval_results.pth\n",
      "done for margin=1.5\n",
      "Overriding: out_dir = out/proposed_margin_1.4_separated_embeddings\n",
      "number of parameters: 0.80M\n",
      "Results saved to out/proposed_margin_1.4_separated_embeddings/eval_results.pth\n",
      "done for margin=1.4\n",
      "Overriding: out_dir = out/proposed_margin_1.3_separated_embeddings\n",
      "number of parameters: 0.80M\n",
      "Results saved to out/proposed_margin_1.3_separated_embeddings/eval_results.pth\n",
      "done for margin=1.3\n",
      "Overriding: out_dir = out/proposed_margin_1.2_separated_embeddings\n",
      "number of parameters: 0.80M\n",
      "Results saved to out/proposed_margin_1.2_separated_embeddings/eval_results.pth\n",
      "done for margin=1.2\n",
      "Overriding: out_dir = out/proposed_margin_1.1_separated_embeddings\n",
      "number of parameters: 0.80M\n",
      "Results saved to out/proposed_margin_1.1_separated_embeddings/eval_results.pth\n",
      "done for margin=1.1\n",
      "Overriding: out_dir = out/proposed_margin_0.9_separated_embeddings\n",
      "number of parameters: 0.80M\n",
      "Results saved to out/proposed_margin_0.9_separated_embeddings/eval_results.pth\n",
      "done for margin=0.9\n",
      "Overriding: out_dir = out/proposed_margin_0.8_separated_embeddings\n",
      "number of parameters: 0.80M\n",
      "Results saved to out/proposed_margin_0.8_separated_embeddings/eval_results.pth\n",
      "done for margin=0.8\n",
      "Overriding: out_dir = out/proposed_margin_0.7_separated_embeddings\n",
      "number of parameters: 0.80M\n",
      "Results saved to out/proposed_margin_0.7_separated_embeddings/eval_results.pth\n",
      "done for margin=0.7\n",
      "Overriding: out_dir = out/proposed_margin_0.6_separated_embeddings\n",
      "number of parameters: 0.80M\n",
      "Results saved to out/proposed_margin_0.6_separated_embeddings/eval_results.pth\n",
      "done for margin=0.6\n",
      "Overriding: out_dir = out/proposed_margin_0.5_separated_embeddings\n",
      "number of parameters: 0.80M\n",
      "Results saved to out/proposed_margin_0.5_separated_embeddings/eval_results.pth\n",
      "done for margin=0.5\n"
     ]
    }
   ],
   "source": [
    "for margin in [1.5, 1.4, 1.3, 1.2, 1.1, 0.9, 0.8, 0.7, 0.6, 0.5]:\n",
    "    model_name = f'proposed_margin_{margin}_separated_embeddings'\n",
    "    args = {\n",
    "        \"out_dir\": f\"out/{model_name}\",\n",
    "    }\n",
    "    run_eval(args)\n",
    "    print(f'done for margin={margin}')"
   ]
  },
  {
   "cell_type": "code",
   "execution_count": 18,
   "id": "dde27d30",
   "metadata": {},
   "outputs": [
    {
     "name": "stdout",
     "output_type": "stream",
     "text": [
      "Overriding: out_dir = out/proposed_margin_4.0_wo_weight_tying\n",
      "Overriding: weight_tying = False\n",
      "number of parameters: 0.82M\n",
      "Results saved to out/proposed_margin_4.0_wo_weight_tying/eval_results.pth\n",
      "done for margin=4.0\n",
      "Overriding: out_dir = out/proposed_margin_8.0_wo_weight_tying\n",
      "Overriding: weight_tying = False\n",
      "number of parameters: 0.82M\n",
      "Results saved to out/proposed_margin_8.0_wo_weight_tying/eval_results.pth\n",
      "done for margin=8.0\n"
     ]
    }
   ],
   "source": [
    "for margin in [4.0, 8.0]:\n",
    "    args = {\n",
    "        \"out_dir\": f\"out/proposed_margin_{margin}_wo_weight_tying\",\n",
    "        \"weight_tying\": \"False\"\n",
    "    }\n",
    "    run_eval(args)\n",
    "    print(f'done for margin={margin}')"
   ]
  },
  {
   "cell_type": "code",
   "execution_count": null,
   "id": "8db1740b",
   "metadata": {},
   "outputs": [],
   "source": []
  }
 ],
 "metadata": {
  "kernelspec": {
   "display_name": "Python 3 (ipykernel)",
   "language": "python",
   "name": "python3"
  },
  "language_info": {
   "codemirror_mode": {
    "name": "ipython",
    "version": 3
   },
   "file_extension": ".py",
   "mimetype": "text/x-python",
   "name": "python",
   "nbconvert_exporter": "python",
   "pygments_lexer": "ipython3",
   "version": "3.9.10"
  }
 },
 "nbformat": 4,
 "nbformat_minor": 5
}
