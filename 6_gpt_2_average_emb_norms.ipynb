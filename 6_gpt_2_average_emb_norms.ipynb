{
 "cells": [
  {
   "cell_type": "code",
   "execution_count": null,
   "id": "2c26c0ed",
   "metadata": {},
   "outputs": [],
   "source": [
    "GPT-2 Small: d_model = 768\n",
    "GPT-2 Medium: d_model = 1024\n",
    "GPT-2 Large: d_model = 1280\n",
    "GPT-2 XL: d_model = 1600"
   ]
  },
  {
   "cell_type": "code",
   "execution_count": 36,
   "id": "be672f0e",
   "metadata": {},
   "outputs": [],
   "source": [
    "from tqdm.auto import tqdm\n",
    "import torch\n",
    "from transformers import GPT2LMHeadModel, GPT2Config\n",
    "\n",
    "def mask_diagonal(size_0, size_1):\n",
    "    mask = torch.logical_not(torch.eye(size_0, size_1, dtype=bool))\n",
    "    return mask\n",
    "\n",
    "def get_percentile_5(model_name, load=True):\n",
    "    \n",
    "    # Load the GPT-2 model (small variant by default)\n",
    "    if load:\n",
    "        model = GPT2LMHeadModel.from_pretrained(model_name)\n",
    "    else:\n",
    "        config = GPT2Config.from_pretrained(model_name)\n",
    "        # we need to init only embeddings\n",
    "        config.n_layer = 1\n",
    "        config.n_head = 1\n",
    "        model = GPT2LMHeadModel(config)\n",
    "\n",
    "    # Extract the language model head (unembedding layer)\n",
    "    lm_head = model.lm_head  # This is the linear layer that maps hidden states back to vocabulary\n",
    "\n",
    "    # Since GPT-2 uses tied embeddings, the lm_head weight matrix is the same as the input embeddings\n",
    "    w_t = lm_head.weight.data  # This is the weight matrix [vocab_size, d_model]\n",
    "    gamma = model.transformer.ln_f.weight.data\n",
    "    h_t = model.transformer.ln_f(gamma*w_t).data\n",
    "\n",
    "    # Output results\n",
    "    print(f\"Mean of w_t norms: {torch.norm(w_t, dim=1).mean()}\")\n",
    "    print(f\"Variance of w_t norms: {torch.norm(w_t, dim=1).std()}\")\n",
    "\n",
    "    # Output results\n",
    "    print(f\"Mean of h_t norms: {torch.norm(h_t, dim=1).mean()}\")\n",
    "    print(f\"Variance of h_t norms: {torch.norm(h_t, dim=1).std()}\")\n",
    "\n",
    "\n",
    "    h_t_w_t = (h_t * w_t).sum(axis=1)\n",
    "\n",
    "    # Set the batch size\n",
    "    batch_size = 1000\n",
    "    vocab_size = w_t.size(0)\n",
    "    num_batches = vocab_size // batch_size + (vocab_size % batch_size != 0)\n",
    "\n",
    "    mean_sum = 0.0\n",
    "    mean_sum_sq = 0.0\n",
    "    var_sum = 0.0\n",
    "\n",
    "    total_elements = 0\n",
    "\n",
    "    percentile_5_all = []\n",
    "\n",
    "    for i in tqdm(range(0, vocab_size, batch_size)):\n",
    "        batch_end = min(i + batch_size, vocab_size)\n",
    "        batch_w_t = w_t[i:batch_end]\n",
    "        batch_h_t = h_t[i:batch_end]\n",
    "        mask = mask_diagonal(batch_end-i, vocab_size)\n",
    "\n",
    "        # 4. <h_t, w_i> for w_t != w_i (in batches)\n",
    "        batch_h_t_w_i = torch.matmul(batch_h_t, w_t.T)\n",
    "\n",
    "        # 5. <h_t, w_t - w_i> for w_t != w_i (in batches)\n",
    "        h_t_w_t_minus_w_i = h_t_w_t[i:batch_end].unsqueeze(1) - batch_h_t_w_i\n",
    "        percentile_5 = torch.kthvalue(h_t_w_t_minus_w_i, 2500, dim=1).values\n",
    "\n",
    "        percentile_5_all.append(percentile_5)\n",
    "        mean_sum += percentile_5.sum().item()\n",
    "        mean_sum_sq += (percentile_5 ** 2).sum().item()\n",
    "\n",
    "        total_elements += percentile_5.size(0)\n",
    "\n",
    "    mean = mean_sum / total_elements\n",
    "    var = mean_sum_sq / total_elements - mean ** 2\n",
    "\n",
    "    print(f\"Mean of <h_t,  w_t - w_i> for w_t != w_i: {mean}\")\n",
    "    print(f\"Variance of <h_t,  w_t - w_i> for w_t != w_i: {var}\")\n",
    "    return torch.hstack(percentile_5_all).numpy()"
   ]
  },
  {
   "cell_type": "code",
   "execution_count": null,
   "id": "3c079388",
   "metadata": {},
   "outputs": [],
   "source": []
  },
  {
   "cell_type": "code",
   "execution_count": 8,
   "id": "e4c8cb45",
   "metadata": {},
   "outputs": [
    {
     "name": "stdout",
     "output_type": "stream",
     "text": [
      "gpt2\n",
      "Mean of w_t norms: 3.9585366249084473\n",
      "Variance of w_t norms: 0.43368640542030334\n",
      "Mean of h_t norms: 325.51611328125\n",
      "Variance of h_t norms: 7.914751052856445\n"
     ]
    },
    {
     "name": "stderr",
     "output_type": "stream",
     "text": [
      "100%|██████████| 51/51 [00:21<00:00,  2.42it/s]\n"
     ]
    },
    {
     "name": "stdout",
     "output_type": "stream",
     "text": [
      "Mean of <h_t,  w_t - w_i> for w_t != w_i: 42.87249986242588\n",
      "Variance of <h_t,  w_t - w_i> for w_t != w_i: 163.3239856137459\n",
      "Mean of w_t norms: 0.5540536046028137\n",
      "Variance of w_t norms: 0.014063533395528793\n",
      "Mean of h_t norms: 27.371450424194336\n",
      "Variance of h_t norms: 0.017052920535206795\n"
     ]
    },
    {
     "name": "stderr",
     "output_type": "stream",
     "text": [
      "100%|██████████| 51/51 [00:18<00:00,  2.72it/s]\n"
     ]
    },
    {
     "name": "stdout",
     "output_type": "stream",
     "text": [
      "Mean of <h_t,  w_t - w_i> for w_t != w_i: 14.253639272654182\n",
      "Variance of <h_t,  w_t - w_i> for w_t != w_i: 0.15505893760922618\n",
      "gpt2-medium\n",
      "Mean of w_t norms: 3.684203624725342\n",
      "Variance of w_t norms: 0.40357089042663574\n",
      "Mean of h_t norms: 340.6470031738281\n",
      "Variance of h_t norms: 13.759939193725586\n"
     ]
    },
    {
     "name": "stderr",
     "output_type": "stream",
     "text": [
      "100%|██████████| 51/51 [00:26<00:00,  1.95it/s]\n"
     ]
    },
    {
     "name": "stdout",
     "output_type": "stream",
     "text": [
      "Mean of <h_t,  w_t - w_i> for w_t != w_i: 60.548586126683844\n",
      "Variance of <h_t,  w_t - w_i> for w_t != w_i: 320.348631305465\n",
      "Mean of w_t norms: 0.6398297548294067\n",
      "Variance of w_t norms: 0.014081780798733234\n",
      "Mean of h_t norms: 31.60621452331543\n",
      "Variance of h_t norms: 0.017047300934791565\n"
     ]
    },
    {
     "name": "stderr",
     "output_type": "stream",
     "text": [
      "100%|██████████| 51/51 [00:28<00:00,  1.77it/s]\n"
     ]
    },
    {
     "name": "stdout",
     "output_type": "stream",
     "text": [
      "Mean of <h_t,  w_t - w_i> for w_t != w_i: 19.171470701143\n",
      "Variance of <h_t,  w_t - w_i> for w_t != w_i: 0.20741460324262562\n",
      "gpt2-large\n",
      "Mean of w_t norms: 2.0462563037872314\n",
      "Variance of w_t norms: 0.26776736974716187\n",
      "Mean of h_t norms: 47.85879135131836\n",
      "Variance of h_t norms: 0.346957802772522\n"
     ]
    },
    {
     "name": "stderr",
     "output_type": "stream",
     "text": [
      "100%|██████████| 51/51 [00:43<00:00,  1.17it/s]\n"
     ]
    },
    {
     "name": "stdout",
     "output_type": "stream",
     "text": [
      "Mean of <h_t,  w_t - w_i> for w_t != w_i: 78.99759027660326\n",
      "Variance of <h_t,  w_t - w_i> for w_t != w_i: 104.54205627537976\n",
      "Mean of w_t norms: 0.7153459191322327\n",
      "Variance of w_t norms: 0.014144234359264374\n",
      "Mean of h_t norms: 35.33701705932617\n",
      "Variance of h_t norms: 0.017114825546741486\n"
     ]
    },
    {
     "name": "stderr",
     "output_type": "stream",
     "text": [
      "100%|██████████| 51/51 [00:53<00:00,  1.05s/it]\n"
     ]
    },
    {
     "name": "stdout",
     "output_type": "stream",
     "text": [
      "Mean of <h_t,  w_t - w_i> for w_t != w_i: 24.104097837505844\n",
      "Variance of <h_t,  w_t - w_i> for w_t != w_i: 0.26156459307901514\n",
      "gpt2-xl\n",
      "Mean of w_t norms: 1.9148160219192505\n",
      "Variance of w_t norms: 0.2344222068786621\n",
      "Mean of h_t norms: 53.882057189941406\n",
      "Variance of h_t norms: 0.28849589824676514\n"
     ]
    },
    {
     "name": "stderr",
     "output_type": "stream",
     "text": [
      "100%|██████████| 51/51 [00:41<00:00,  1.23it/s]\n"
     ]
    },
    {
     "name": "stdout",
     "output_type": "stream",
     "text": [
      "Mean of <h_t,  w_t - w_i> for w_t != w_i: 85.96458344733072\n",
      "Variance of <h_t,  w_t - w_i> for w_t != w_i: 111.58656987636459\n",
      "Mean of w_t norms: 0.7998846769332886\n",
      "Variance of w_t norms: 0.014107647351920605\n",
      "Mean of h_t norms: 39.50830078125\n",
      "Variance of h_t norms: 0.017059525474905968\n"
     ]
    },
    {
     "name": "stderr",
     "output_type": "stream",
     "text": [
      "100%|██████████| 51/51 [00:48<00:00,  1.05it/s]"
     ]
    },
    {
     "name": "stdout",
     "output_type": "stream",
     "text": [
      "Mean of <h_t,  w_t - w_i> for w_t != w_i: 30.29035838796399\n",
      "Variance of <h_t,  w_t - w_i> for w_t != w_i: 0.3253677186909272\n"
     ]
    },
    {
     "name": "stderr",
     "output_type": "stream",
     "text": [
      "\n"
     ]
    }
   ],
   "source": [
    "percentile_5_all = dict()\n",
    "for model_name in ['gpt2', 'gpt2-medium', 'gpt2-large', 'gpt2-xl']:\n",
    "    print(model_name)\n",
    "    percentile_5_all[model_name] = get_percentile_5(model_name)\n",
    "    percentile_5_all[model_name+'_init'] = get_percentile_5(model_name, load=False)"
   ]
  },
  {
   "cell_type": "code",
   "execution_count": 98,
   "id": "709800ad",
   "metadata": {},
   "outputs": [],
   "source": [
    "from tqdm.auto import tqdm\n",
    "import torch\n",
    "from transformers import GPT2LMHeadModel, GPT2Config\n",
    "\n",
    "def get_percentile_5_for_w_i(model_name, load=True):\n",
    "    \n",
    "    # Load the GPT-2 model (small variant by default)\n",
    "    if load:\n",
    "        model = GPT2LMHeadModel.from_pretrained(model_name)\n",
    "    else:\n",
    "        config = GPT2Config.from_pretrained(model_name)\n",
    "        # we need to init only embeddings\n",
    "        config.n_layer = 1\n",
    "        config.n_head = 1\n",
    "        model = GPT2LMHeadModel(config)\n",
    "\n",
    "    # Extract the language model head (unembedding layer)\n",
    "    lm_head = model.lm_head  # This is the linear layer that maps hidden states back to vocabulary\n",
    "\n",
    "    # Since GPT-2 uses tied embeddings, the lm_head weight matrix is the same as the input embeddings\n",
    "    w_t = lm_head.weight.data  # This is the weight matrix [vocab_size, d_model]\n",
    "    gamma = model.transformer.ln_f.weight.data\n",
    "    h_t = model.transformer.ln_f(gamma*w_t).data\n",
    "    \n",
    "    \n",
    "\n",
    "    # Output results\n",
    "    print(f\"Mean of w_t norms: {torch.norm(w_t, dim=1).mean()}\")\n",
    "    print(f\"Variance of w_t norms: {torch.norm(w_t, dim=1).std()}\")\n",
    "\n",
    "    # Output results\n",
    "    print(f\"Mean of h_t norms: {torch.norm(h_t, dim=1).mean()}\")\n",
    "    print(f\"Variance of h_t norms: {torch.norm(h_t, dim=1).std()}\")\n",
    "\n",
    "\n",
    "    h_t_w_t = (h_t * w_t).sum(axis=1)\n",
    "\n",
    "    # Set the batch size\n",
    "    batch_size = 1000\n",
    "    vocab_size = w_t.size(0)\n",
    "    num_batches = vocab_size // batch_size + (vocab_size % batch_size != 0)\n",
    "\n",
    "    mean_sum = 0.0\n",
    "    mean_sum_sq = 0.0\n",
    "    var_sum = 0.0\n",
    "\n",
    "    total_elements = 0\n",
    "\n",
    "    percentile_5_all = []\n",
    "\n",
    "    for i in tqdm(range(0, vocab_size, batch_size)):\n",
    "        batch_end = min(i + batch_size, vocab_size)\n",
    "        batch_w_t = w_t[i:batch_end]\n",
    "        batch_h_t = h_t[i:batch_end]\n",
    "\n",
    "        # 4. <h_t, w_i> for w_t != w_i (in batches)\n",
    "        batch_h_t_w_i = torch.matmul(h_t, batch_w_t.T)\n",
    "\n",
    "        # 5. <h_t, w_t - w_i> for w_t != w_i (in batches)\n",
    "        h_t_w_t_minus_w_i = (h_t_w_t.unsqueeze(1) - batch_h_t_w_i).T\n",
    "        percentile_5 = torch.kthvalue(h_t_w_t_minus_w_i, 2500, dim=1).values\n",
    "\n",
    "        percentile_5_all.append(percentile_5)\n",
    "        mean_sum += percentile_5.sum().item()\n",
    "        mean_sum_sq += (percentile_5 ** 2).sum().item()\n",
    "\n",
    "        total_elements += percentile_5.size(0)\n",
    "\n",
    "    mean = mean_sum / total_elements\n",
    "    var = mean_sum_sq / total_elements - mean ** 2\n",
    "\n",
    "    print(f\"Mean of <h_t,  w_t - w_i> for w_t != w_i: {mean}\")\n",
    "    print(f\"Variance of <h_t,  w_t - w_i> for w_t != w_i: {var}\")\n",
    "    return torch.hstack(percentile_5_all).numpy()"
   ]
  },
  {
   "cell_type": "code",
   "execution_count": 99,
   "id": "3e97874d",
   "metadata": {},
   "outputs": [
    {
     "name": "stdout",
     "output_type": "stream",
     "text": [
      "gpt2\n",
      "Mean of w_t norms: 3.9585366249084473\n",
      "Variance of w_t norms: 0.43368640542030334\n",
      "Mean of h_t norms: 325.51611328125\n",
      "Variance of h_t norms: 7.914751052856445\n"
     ]
    },
    {
     "name": "stderr",
     "output_type": "stream",
     "text": [
      "100%|██████████| 51/51 [00:51<00:00,  1.02s/it]\n"
     ]
    },
    {
     "name": "stdout",
     "output_type": "stream",
     "text": [
      "Mean of <h_t,  w_t - w_i> for w_t != w_i: 32.96831704958389\n",
      "Variance of <h_t,  w_t - w_i> for w_t != w_i: 29.14622820715067\n",
      "Mean of w_t norms: 0.5540944337844849\n",
      "Variance of w_t norms: 0.014196204952895641\n",
      "Mean of h_t norms: 27.371490478515625\n",
      "Variance of h_t norms: 0.01721799559891224\n"
     ]
    },
    {
     "name": "stderr",
     "output_type": "stream",
     "text": [
      "100%|██████████| 51/51 [00:54<00:00,  1.07s/it]\n"
     ]
    },
    {
     "name": "stdout",
     "output_type": "stream",
     "text": [
      "Mean of <h_t,  w_t - w_i> for w_t != w_i: 14.043113212540666\n",
      "Variance of <h_t,  w_t - w_i> for w_t != w_i: 0.0003872455544069453\n",
      "gpt2-medium\n",
      "Mean of w_t norms: 3.684203624725342\n",
      "Variance of w_t norms: 0.40357089042663574\n",
      "Mean of h_t norms: 340.6470031738281\n",
      "Variance of h_t norms: 13.759939193725586\n"
     ]
    },
    {
     "name": "stderr",
     "output_type": "stream",
     "text": [
      "100%|██████████| 51/51 [01:07<00:00,  1.32s/it]\n"
     ]
    },
    {
     "name": "stdout",
     "output_type": "stream",
     "text": [
      "Mean of <h_t,  w_t - w_i> for w_t != w_i: 49.05501130439541\n",
      "Variance of <h_t,  w_t - w_i> for w_t != w_i: 75.04945587330758\n",
      "Mean of w_t norms: 0.6398733854293823\n",
      "Variance of w_t norms: 0.014200717210769653\n",
      "Mean of h_t norms: 31.606258392333984\n",
      "Variance of h_t norms: 0.017201360315084457\n"
     ]
    },
    {
     "name": "stderr",
     "output_type": "stream",
     "text": [
      "100%|██████████| 51/51 [01:07<00:00,  1.33s/it]\n"
     ]
    },
    {
     "name": "stdout",
     "output_type": "stream",
     "text": [
      "Mean of <h_t,  w_t - w_i> for w_t != w_i: 18.92703964513028\n",
      "Variance of <h_t,  w_t - w_i> for w_t != w_i: 0.0004000642826440526\n",
      "gpt2-large\n",
      "Mean of w_t norms: 2.0462563037872314\n",
      "Variance of w_t norms: 0.26776736974716187\n",
      "Mean of h_t norms: 47.85879135131836\n",
      "Variance of h_t norms: 0.346957802772522\n"
     ]
    },
    {
     "name": "stderr",
     "output_type": "stream",
     "text": [
      "100%|██████████| 51/51 [01:17<00:00,  1.52s/it]\n"
     ]
    },
    {
     "name": "stdout",
     "output_type": "stream",
     "text": [
      "Mean of <h_t,  w_t - w_i> for w_t != w_i: 70.03631257212926\n",
      "Variance of <h_t,  w_t - w_i> for w_t != w_i: 7.536630712622355\n",
      "Mean of w_t norms: 0.7153952121734619\n",
      "Variance of w_t norms: 0.01416912954300642\n",
      "Mean of h_t norms: 35.33707809448242\n",
      "Variance of h_t norms: 0.017140012234449387\n"
     ]
    },
    {
     "name": "stderr",
     "output_type": "stream",
     "text": [
      "100%|██████████| 51/51 [01:29<00:00,  1.76s/it]\n"
     ]
    },
    {
     "name": "stdout",
     "output_type": "stream",
     "text": [
      "Mean of <h_t,  w_t - w_i> for w_t != w_i: 23.83276395848775\n",
      "Variance of <h_t,  w_t - w_i> for w_t != w_i: 0.00041574576300718036\n",
      "gpt2-xl\n",
      "Mean of w_t norms: 1.9148160219192505\n",
      "Variance of w_t norms: 0.2344222068786621\n",
      "Mean of h_t norms: 53.882057189941406\n",
      "Variance of h_t norms: 0.28849589824676514\n"
     ]
    },
    {
     "name": "stderr",
     "output_type": "stream",
     "text": [
      "100%|██████████| 51/51 [01:29<00:00,  1.75s/it]\n"
     ]
    },
    {
     "name": "stdout",
     "output_type": "stream",
     "text": [
      "Mean of <h_t,  w_t - w_i> for w_t != w_i: 75.52464539299253\n",
      "Variance of <h_t,  w_t - w_i> for w_t != w_i: 5.177514441175845\n",
      "Mean of w_t norms: 0.7999414801597595\n",
      "Variance of w_t norms: 0.01413149107247591\n",
      "Mean of h_t norms: 39.50837326049805\n",
      "Variance of h_t norms: 0.01708083041012287\n"
     ]
    },
    {
     "name": "stderr",
     "output_type": "stream",
     "text": [
      "100%|██████████| 51/51 [01:20<00:00,  1.57s/it]"
     ]
    },
    {
     "name": "stdout",
     "output_type": "stream",
     "text": [
      "Mean of <h_t,  w_t - w_i> for w_t != w_i: 29.98783878792693\n",
      "Variance of <h_t,  w_t - w_i> for w_t != w_i: 0.00042334841691626934\n"
     ]
    },
    {
     "name": "stderr",
     "output_type": "stream",
     "text": [
      "\n"
     ]
    }
   ],
   "source": [
    "percentile_5_for_w_i = dict()\n",
    "for model_name in ['gpt2', 'gpt2-medium', 'gpt2-large', 'gpt2-xl']:\n",
    "    print(model_name)\n",
    "    percentile_5_for_w_i[model_name] = get_percentile_5_for_w_i(model_name)\n",
    "    percentile_5_for_w_i[model_name+'_init'] = get_percentile_5_for_w_i(model_name, load=False)"
   ]
  },
  {
   "cell_type": "code",
   "execution_count": 72,
   "id": "ba444f26",
   "metadata": {},
   "outputs": [],
   "source": [
    "from tqdm.auto import tqdm\n",
    "import torch\n",
    "from transformers import GPT2LMHeadModel, GPT2Config\n",
    "\n",
    "def get_alpha_percentile_5_for_w_i(model_name, load=True):\n",
    "    \n",
    "    # Load the GPT-2 model (small variant by default)\n",
    "    if load:\n",
    "        model = GPT2LMHeadModel.from_pretrained(model_name)\n",
    "    else:\n",
    "        config = GPT2Config.from_pretrained(model_name)\n",
    "        # we need to init only embeddings\n",
    "        config.n_layer = 1\n",
    "        config.n_head = 1\n",
    "        model = GPT2LMHeadModel(config)\n",
    "\n",
    "    # Extract the language model head (unembedding layer)\n",
    "    lm_head = model.lm_head  # This is the linear layer that maps hidden states back to vocabulary\n",
    "\n",
    "    # Since GPT-2 uses tied embeddings, the lm_head weight matrix is the same as the input embeddings\n",
    "    w_t = lm_head.weight.data  # This is the weight matrix [vocab_size, d_model]\n",
    "    gamma = model.transformer.ln_f.weight.data\n",
    "    h_t = model.transformer.ln_f(gamma*w_t).data\n",
    "    \n",
    "    w_t_norm = torch.norm(w_t, dim=1)\n",
    "\n",
    "    # Output results\n",
    "    print(f\"Mean of w_t norms: {torch.norm(w_t, dim=1).mean()}\")\n",
    "    print(f\"Variance of w_t norms: {torch.norm(w_t, dim=1).std()}\")\n",
    "\n",
    "    # Output results\n",
    "    print(f\"Mean of h_t norms: {torch.norm(h_t, dim=1).mean()}\")\n",
    "    print(f\"Variance of h_t norms: {torch.norm(h_t, dim=1).std()}\")\n",
    "\n",
    "\n",
    "    h_t_w_t = (h_t * w_t).sum(axis=1)\n",
    "\n",
    "    # Set the batch size\n",
    "    batch_size = 1000\n",
    "    vocab_size = w_t.size(0)\n",
    "    num_batches = vocab_size // batch_size + (vocab_size % batch_size != 0)\n",
    "\n",
    "    mean_sum = 0.0\n",
    "    mean_sum_sq = 0.0\n",
    "    var_sum = 0.0\n",
    "\n",
    "    total_elements = 0\n",
    "\n",
    "    percentile_5_all = []\n",
    "\n",
    "    for i in tqdm(range(0, vocab_size, batch_size)):\n",
    "        batch_end = min(i + batch_size, vocab_size)\n",
    "        batch_w_t = w_t[i:batch_end]\n",
    "        batch_h_t = h_t[i:batch_end]\n",
    "\n",
    "        # 4. <h_t, w_i> for w_t != w_i (in batches)\n",
    "        batch_h_t_w_i = torch.matmul(h_t, batch_w_t.T)\n",
    "\n",
    "        # 5. <h_t, w_t - w_i> for w_t != w_i (in batches)\n",
    "        h_t_w_t_minus_w_i = ((h_t_w_t.unsqueeze(1) - batch_h_t_w_i)/w_t_norm.unsqueeze(1)).T\n",
    "        percentile_5 = torch.kthvalue(h_t_w_t_minus_w_i, 2500, dim=1).values\n",
    "\n",
    "        percentile_5_all.append(percentile_5)\n",
    "        mean_sum += percentile_5.sum().item()\n",
    "        mean_sum_sq += (percentile_5 ** 2).sum().item()\n",
    "\n",
    "        total_elements += percentile_5.size(0)\n",
    "\n",
    "    mean = mean_sum / total_elements\n",
    "    var = mean_sum_sq / total_elements - mean ** 2\n",
    "\n",
    "    print(f\"Mean of <h_t,  w_t - w_i> for w_t != w_i: {mean}\")\n",
    "    print(f\"Variance of <h_t,  w_t - w_i> for w_t != w_i: {var}\")\n",
    "    return torch.hstack(percentile_5_all).numpy()"
   ]
  },
  {
   "cell_type": "code",
   "execution_count": 76,
   "id": "0788baf9",
   "metadata": {},
   "outputs": [
    {
     "name": "stdout",
     "output_type": "stream",
     "text": [
      "gpt2\n",
      "Mean of w_t norms: 3.9585366249084473\n",
      "Variance of w_t norms: 0.43368640542030334\n",
      "Mean of h_t norms: 325.51611328125\n",
      "Variance of h_t norms: 7.914751052856445\n"
     ]
    },
    {
     "name": "stderr",
     "output_type": "stream",
     "text": [
      "100%|██████████| 51/51 [00:21<00:00,  2.33it/s]\n"
     ]
    },
    {
     "name": "stdout",
     "output_type": "stream",
     "text": [
      "Mean of <h_t,  w_t - w_i> for w_t != w_i: 9.643192574153227\n",
      "Variance of <h_t,  w_t - w_i> for w_t != w_i: 2.303540560754641\n",
      "Mean of w_t norms: 0.5541560649871826\n",
      "Variance of w_t norms: 0.01412238273769617\n",
      "Mean of h_t norms: 27.371570587158203\n",
      "Variance of h_t norms: 0.017120838165283203\n"
     ]
    },
    {
     "name": "stderr",
     "output_type": "stream",
     "text": [
      "100%|██████████| 51/51 [00:25<00:00,  2.02it/s]\n"
     ]
    },
    {
     "name": "stdout",
     "output_type": "stream",
     "text": [
      "Mean of <h_t,  w_t - w_i> for w_t != w_i: 25.72334875497754\n",
      "Variance of <h_t,  w_t - w_i> for w_t != w_i: 0.0018200499240492718\n",
      "gpt2-medium\n",
      "Mean of w_t norms: 3.684203624725342\n",
      "Variance of w_t norms: 0.40357089042663574\n",
      "Mean of h_t norms: 340.6470031738281\n",
      "Variance of h_t norms: 13.759939193725586\n"
     ]
    },
    {
     "name": "stderr",
     "output_type": "stream",
     "text": [
      "100%|██████████| 51/51 [00:36<00:00,  1.41it/s]\n"
     ]
    },
    {
     "name": "stdout",
     "output_type": "stream",
     "text": [
      "Mean of <h_t,  w_t - w_i> for w_t != w_i: 15.318474845932531\n",
      "Variance of <h_t,  w_t - w_i> for w_t != w_i: 6.272935976560689\n",
      "Mean of w_t norms: 0.6397901773452759\n",
      "Variance of w_t norms: 0.014143177308142185\n",
      "Mean of h_t norms: 31.60616683959961\n",
      "Variance of h_t norms: 0.017128609120845795\n"
     ]
    },
    {
     "name": "stderr",
     "output_type": "stream",
     "text": [
      "100%|██████████| 51/51 [00:39<00:00,  1.29it/s]\n"
     ]
    },
    {
     "name": "stdout",
     "output_type": "stream",
     "text": [
      "Mean of <h_t,  w_t - w_i> for w_t != w_i: 29.960891991725035\n",
      "Variance of <h_t,  w_t - w_i> for w_t != w_i: 0.001409675404374866\n",
      "gpt2-large\n",
      "Mean of w_t norms: 2.0462563037872314\n",
      "Variance of w_t norms: 0.26776736974716187\n",
      "Mean of h_t norms: 47.85879135131836\n",
      "Variance of h_t norms: 0.346957802772522\n"
     ]
    },
    {
     "name": "stderr",
     "output_type": "stream",
     "text": [
      "100%|██████████| 51/51 [00:37<00:00,  1.36it/s]\n"
     ]
    },
    {
     "name": "stdout",
     "output_type": "stream",
     "text": [
      "Mean of <h_t,  w_t - w_i> for w_t != w_i: 38.97666830382459\n",
      "Variance of <h_t,  w_t - w_i> for w_t != w_i: 5.106785402246942\n",
      "Mean of w_t norms: 0.7154437303543091\n",
      "Variance of w_t norms: 0.014160022139549255\n",
      "Mean of h_t norms: 35.337135314941406\n",
      "Variance of h_t norms: 0.017134806141257286\n"
     ]
    },
    {
     "name": "stderr",
     "output_type": "stream",
     "text": [
      "100%|██████████| 51/51 [00:42<00:00,  1.21it/s]\n"
     ]
    },
    {
     "name": "stdout",
     "output_type": "stream",
     "text": [
      "Mean of <h_t,  w_t - w_i> for w_t != w_i: 33.693880777024845\n",
      "Variance of <h_t,  w_t - w_i> for w_t != w_i: 0.0011031401591026224\n",
      "gpt2-xl\n",
      "Mean of w_t norms: 1.9148160219192505\n",
      "Variance of w_t norms: 0.2344222068786621\n",
      "Mean of h_t norms: 53.882057189941406\n",
      "Variance of h_t norms: 0.28849589824676514\n"
     ]
    },
    {
     "name": "stderr",
     "output_type": "stream",
     "text": [
      "100%|██████████| 51/51 [00:53<00:00,  1.05s/it]\n"
     ]
    },
    {
     "name": "stdout",
     "output_type": "stream",
     "text": [
      "Mean of <h_t,  w_t - w_i> for w_t != w_i: 45.18025835486848\n",
      "Variance of <h_t,  w_t - w_i> for w_t != w_i: 4.983858425664266\n",
      "Mean of w_t norms: 0.799998939037323\n",
      "Variance of w_t norms: 0.01415017619729042\n",
      "Mean of h_t norms: 39.50843811035156\n",
      "Variance of h_t norms: 0.017101850360631943\n"
     ]
    },
    {
     "name": "stderr",
     "output_type": "stream",
     "text": [
      "100%|██████████| 51/51 [00:59<00:00,  1.16s/it]"
     ]
    },
    {
     "name": "stdout",
     "output_type": "stream",
     "text": [
      "Mean of <h_t,  w_t - w_i> for w_t != w_i: 37.86703929692008\n",
      "Variance of <h_t,  w_t - w_i> for w_t != w_i: 0.0008693185245647328\n"
     ]
    },
    {
     "name": "stderr",
     "output_type": "stream",
     "text": [
      "\n"
     ]
    }
   ],
   "source": [
    "alpha_percentile_5_for_w_i = dict()\n",
    "for model_name in ['gpt2', 'gpt2-medium', 'gpt2-large', 'gpt2-xl']:\n",
    "    print(model_name)\n",
    "    alpha_percentile_5_for_w_i[model_name] = get_alpha_percentile_5_for_w_i(model_name)\n",
    "    alpha_percentile_5_for_w_i[model_name+'_init'] = get_alpha_percentile_5_for_w_i(model_name, load=False)"
   ]
  },
  {
   "cell_type": "code",
   "execution_count": 77,
   "id": "aa205b14",
   "metadata": {},
   "outputs": [],
   "source": [
    "from tqdm.auto import tqdm\n",
    "import torch\n",
    "from transformers import GPT2LMHeadModel, GPT2Config\n",
    "\n",
    "def get_betta_percentile_5_for_w_i(model_name, load=True):\n",
    "    \n",
    "    # Load the GPT-2 model (small variant by default)\n",
    "    if load:\n",
    "        model = GPT2LMHeadModel.from_pretrained(model_name)\n",
    "    else:\n",
    "        config = GPT2Config.from_pretrained(model_name)\n",
    "        # we need to init only embeddings\n",
    "        config.n_layer = 1\n",
    "        config.n_head = 1\n",
    "        model = GPT2LMHeadModel(config)\n",
    "\n",
    "    # Extract the language model head (unembedding layer)\n",
    "    lm_head = model.lm_head  # This is the linear layer that maps hidden states back to vocabulary\n",
    "\n",
    "    # Since GPT-2 uses tied embeddings, the lm_head weight matrix is the same as the input embeddings\n",
    "    w_t = lm_head.weight.data  # This is the weight matrix [vocab_size, d_model]\n",
    "    gamma = model.transformer.ln_f.weight.data\n",
    "    h_t = model.transformer.ln_f(gamma*w_t).data\n",
    "    \n",
    "    w_t_norm = torch.norm(w_t, dim=1)\n",
    "    h_t_norm = torch.norm(h_t, dim=1)\n",
    "\n",
    "    # Output results\n",
    "    print(f\"Mean of w_t norms: {torch.norm(w_t, dim=1).mean()}\")\n",
    "    print(f\"Variance of w_t norms: {torch.norm(w_t, dim=1).std()}\")\n",
    "\n",
    "    # Output results\n",
    "    print(f\"Mean of h_t norms: {torch.norm(h_t, dim=1).mean()}\")\n",
    "    print(f\"Variance of h_t norms: {torch.norm(h_t, dim=1).std()}\")\n",
    "\n",
    "\n",
    "    h_t_w_t = (h_t * w_t).sum(axis=1)\n",
    "\n",
    "    # Set the batch size\n",
    "    batch_size = 1000\n",
    "    vocab_size = w_t.size(0)\n",
    "    num_batches = vocab_size // batch_size + (vocab_size % batch_size != 0)\n",
    "\n",
    "    mean_sum = 0.0\n",
    "    mean_sum_sq = 0.0\n",
    "    var_sum = 0.0\n",
    "\n",
    "    total_elements = 0\n",
    "\n",
    "    percentile_5_all = []\n",
    "\n",
    "    for i in tqdm(range(0, vocab_size, batch_size)):\n",
    "        batch_end = min(i + batch_size, vocab_size)\n",
    "        batch_w_t = w_t[i:batch_end]\n",
    "        batch_h_t = h_t[i:batch_end]\n",
    "\n",
    "        # 4. <h_t, w_i> for w_t != w_i (in batches)\n",
    "        batch_h_t_w_i = torch.matmul(h_t, batch_w_t.T)\n",
    "\n",
    "        # 5. <h_t, w_t - w_i> for w_t != w_i (in batches)\n",
    "        h_t_w_t_minus_w_i = ((h_t_w_t.unsqueeze(1) - batch_h_t_w_i)/h_t_norm.unsqueeze(1)).T\n",
    "        percentile_5 = torch.kthvalue(h_t_w_t_minus_w_i, 2500, dim=1).values\n",
    "\n",
    "        percentile_5_all.append(percentile_5)\n",
    "        mean_sum += percentile_5.sum().item()\n",
    "        mean_sum_sq += (percentile_5 ** 2).sum().item()\n",
    "\n",
    "        total_elements += percentile_5.size(0)\n",
    "\n",
    "    mean = mean_sum / total_elements\n",
    "    var = mean_sum_sq / total_elements - mean ** 2\n",
    "\n",
    "    print(f\"Mean of <h_t,  w_t - w_i> for w_t != w_i: {mean}\")\n",
    "    print(f\"Variance of <h_t,  w_t - w_i> for w_t != w_i: {var}\")\n",
    "    return torch.hstack(percentile_5_all).numpy()"
   ]
  },
  {
   "cell_type": "code",
   "execution_count": 78,
   "id": "489c3df2",
   "metadata": {},
   "outputs": [
    {
     "name": "stdout",
     "output_type": "stream",
     "text": [
      "gpt2\n",
      "Mean of w_t norms: 3.9585366249084473\n",
      "Variance of w_t norms: 0.43368640542030334\n",
      "Mean of h_t norms: 325.51611328125\n",
      "Variance of h_t norms: 7.914751052856445\n"
     ]
    },
    {
     "name": "stderr",
     "output_type": "stream",
     "text": [
      "100%|██████████| 51/51 [00:25<00:00,  2.03it/s]\n"
     ]
    },
    {
     "name": "stdout",
     "output_type": "stream",
     "text": [
      "Mean of <h_t,  w_t - w_i> for w_t != w_i: 0.09784106284882228\n",
      "Variance of <h_t,  w_t - w_i> for w_t != w_i: 0.00025721918388830686\n",
      "gpt2_init\n",
      "Mean of w_t norms: 0.5540703535079956\n",
      "Variance of w_t norms: 0.014130977913737297\n",
      "Mean of h_t norms: 27.3714656829834\n",
      "Variance of h_t norms: 0.01714562624692917\n"
     ]
    },
    {
     "name": "stderr",
     "output_type": "stream",
     "text": [
      "100%|██████████| 51/51 [00:22<00:00,  2.30it/s]\n"
     ]
    },
    {
     "name": "stdout",
     "output_type": "stream",
     "text": [
      "Mean of <h_t,  w_t - w_i> for w_t != w_i: 0.5133833652642604\n",
      "Variance of <h_t,  w_t - w_i> for w_t != w_i: 5.188595362248805e-07\n",
      "gpt2-medium\n",
      "Mean of w_t norms: 3.684203624725342\n",
      "Variance of w_t norms: 0.40357089042663574\n",
      "Mean of h_t norms: 340.6470031738281\n",
      "Variance of h_t norms: 13.759939193725586\n"
     ]
    },
    {
     "name": "stderr",
     "output_type": "stream",
     "text": [
      "100%|██████████| 51/51 [00:30<00:00,  1.65it/s]\n"
     ]
    },
    {
     "name": "stdout",
     "output_type": "stream",
     "text": [
      "Mean of <h_t,  w_t - w_i> for w_t != w_i: 0.13647489818895817\n",
      "Variance of <h_t,  w_t - w_i> for w_t != w_i: 0.00058443337789316\n",
      "gpt2-medium_init\n",
      "Mean of w_t norms: 0.6398448944091797\n",
      "Variance of w_t norms: 0.01418913621455431\n",
      "Mean of h_t norms: 31.606229782104492\n",
      "Variance of h_t norms: 0.017183048650622368\n"
     ]
    },
    {
     "name": "stderr",
     "output_type": "stream",
     "text": [
      "100%|██████████| 51/51 [00:32<00:00,  1.55it/s]\n"
     ]
    },
    {
     "name": "stdout",
     "output_type": "stream",
     "text": [
      "Mean of <h_t,  w_t - w_i> for w_t != w_i: 0.599160355749475\n",
      "Variance of <h_t,  w_t - w_i> for w_t != w_i: 3.895667592401786e-07\n",
      "gpt2-large\n",
      "Mean of w_t norms: 2.0462563037872314\n",
      "Variance of w_t norms: 0.26776736974716187\n",
      "Mean of h_t norms: 47.85879135131836\n",
      "Variance of h_t norms: 0.346957802772522\n"
     ]
    },
    {
     "name": "stderr",
     "output_type": "stream",
     "text": [
      "100%|██████████| 51/51 [00:39<00:00,  1.30it/s]\n"
     ]
    },
    {
     "name": "stdout",
     "output_type": "stream",
     "text": [
      "Mean of <h_t,  w_t - w_i> for w_t != w_i: 1.456308156398378\n",
      "Variance of <h_t,  w_t - w_i> for w_t != w_i: 0.0031278617221301985\n",
      "gpt2-large_init\n",
      "Mean of w_t norms: 0.7153488993644714\n",
      "Variance of w_t norms: 0.014198420569300652\n",
      "Mean of h_t norms: 35.33702087402344\n",
      "Variance of h_t norms: 0.01717432402074337\n"
     ]
    },
    {
     "name": "stderr",
     "output_type": "stream",
     "text": [
      "100%|██████████| 51/51 [00:41<00:00,  1.24it/s]\n"
     ]
    },
    {
     "name": "stdout",
     "output_type": "stream",
     "text": [
      "Mean of <h_t,  w_t - w_i> for w_t != w_i: 0.6746977599955565\n",
      "Variance of <h_t,  w_t - w_i> for w_t != w_i: 3.4355849931611004e-07\n",
      "gpt2-xl\n",
      "Mean of w_t norms: 1.9148160219192505\n",
      "Variance of w_t norms: 0.2344222068786621\n",
      "Mean of h_t norms: 53.882057189941406\n",
      "Variance of h_t norms: 0.28849589824676514\n"
     ]
    },
    {
     "name": "stderr",
     "output_type": "stream",
     "text": [
      "100%|██████████| 51/51 [00:47<00:00,  1.08it/s]\n"
     ]
    },
    {
     "name": "stdout",
     "output_type": "stream",
     "text": [
      "Mean of <h_t,  w_t - w_i> for w_t != w_i: 1.3963667969779863\n",
      "Variance of <h_t,  w_t - w_i> for w_t != w_i: 0.0016803975754502432\n",
      "gpt2-xl_init\n",
      "Mean of w_t norms: 0.7997192740440369\n",
      "Variance of w_t norms: 0.014075861312448978\n",
      "Mean of h_t norms: 39.50810623168945\n",
      "Variance of h_t norms: 0.01702141761779785\n"
     ]
    },
    {
     "name": "stderr",
     "output_type": "stream",
     "text": [
      "100%|██████████| 51/51 [00:52<00:00,  1.04s/it]"
     ]
    },
    {
     "name": "stdout",
     "output_type": "stream",
     "text": [
      "Mean of <h_t,  w_t - w_i> for w_t != w_i: 0.7592071913329355\n",
      "Variance of <h_t,  w_t - w_i> for w_t != w_i: 2.8345229519111115e-07\n"
     ]
    },
    {
     "name": "stderr",
     "output_type": "stream",
     "text": [
      "\n"
     ]
    }
   ],
   "source": [
    "betta_percentile_5_for_w_i = dict()\n",
    "for model_name in ['gpt2', 'gpt2-medium', 'gpt2-large', 'gpt2-xl']:\n",
    "    print(model_name)\n",
    "    betta_percentile_5_for_w_i[model_name] = get_betta_percentile_5_for_w_i(model_name)\n",
    "    print(model_name+'_init')\n",
    "    betta_percentile_5_for_w_i[model_name+'_init'] = get_betta_percentile_5_for_w_i(model_name, load=False)"
   ]
  },
  {
   "cell_type": "code",
   "execution_count": 87,
   "id": "2cb73e4f",
   "metadata": {},
   "outputs": [],
   "source": [
    "from tqdm.auto import tqdm\n",
    "import torch\n",
    "from transformers import GPT2LMHeadModel, GPT2Config\n",
    "\n",
    "def get_gamma_percentile_5_for_w_i(model_name, load=True):\n",
    "    \n",
    "    # Load the GPT-2 model (small variant by default)\n",
    "    if load:\n",
    "        model = GPT2LMHeadModel.from_pretrained(model_name)\n",
    "    else:\n",
    "        config = GPT2Config.from_pretrained(model_name)\n",
    "        # we need to init only embeddings\n",
    "        config.n_layer = 1\n",
    "        config.n_head = 1\n",
    "        model = GPT2LMHeadModel(config)\n",
    "\n",
    "    # Extract the language model head (unembedding layer)\n",
    "    lm_head = model.lm_head  # This is the linear layer that maps hidden states back to vocabulary\n",
    "\n",
    "    # Since GPT-2 uses tied embeddings, the lm_head weight matrix is the same as the input embeddings\n",
    "    w_t = lm_head.weight.data  # This is the weight matrix [vocab_size, d_model]\n",
    "    gamma = model.transformer.ln_f.weight.data\n",
    "    h_t = model.transformer.ln_f(gamma*w_t).data\n",
    "    \n",
    "    w_t_norm = torch.norm(w_t, dim=1)\n",
    "    h_t_norm = torch.norm(h_t, dim=1)\n",
    "\n",
    "    # Output results\n",
    "    print(f\"Mean of w_t norms: {torch.norm(w_t, dim=1).mean()}\")\n",
    "    print(f\"Variance of w_t norms: {torch.norm(w_t, dim=1).std()}\")\n",
    "\n",
    "    # Output results\n",
    "    print(f\"Mean of h_t norms: {torch.norm(h_t, dim=1).mean()}\")\n",
    "    print(f\"Variance of h_t norms: {torch.norm(h_t, dim=1).std()}\")\n",
    "\n",
    "\n",
    "    h_t_w_t = (h_t * w_t).sum(axis=1)\n",
    "\n",
    "    # Set the batch size\n",
    "    batch_size = 1000\n",
    "    vocab_size = w_t.size(0)\n",
    "    num_batches = vocab_size // batch_size + (vocab_size % batch_size != 0)\n",
    "\n",
    "    mean_sum = 0.0\n",
    "    mean_sum_sq = 0.0\n",
    "    var_sum = 0.0\n",
    "\n",
    "    total_elements = 0\n",
    "\n",
    "    percentile_5_all = []\n",
    "\n",
    "    for i in tqdm(range(0, vocab_size, batch_size)):\n",
    "        batch_end = min(i + batch_size, vocab_size)\n",
    "        batch_w_t = w_t[i:batch_end]\n",
    "        batch_h_t = h_t[i:batch_end]\n",
    "\n",
    "        # 4. <h_t, w_i> for w_t != w_i (in batches)\n",
    "        batch_h_t_w_i = torch.matmul(h_t, batch_w_t.T)\n",
    "\n",
    "        # 5. <h_t, w_t - w_i> for w_t != w_i (in batches)\n",
    "        h_t_w_t_minus_w_i = ((h_t_w_t.unsqueeze(1) - batch_h_t_w_i)/(h_t_norm * w_t_norm).unsqueeze(1)).T\n",
    "        percentile_5 = torch.kthvalue(h_t_w_t_minus_w_i, 2500, dim=1).values\n",
    "\n",
    "        percentile_5_all.append(percentile_5)\n",
    "        mean_sum += percentile_5.sum().item()\n",
    "        mean_sum_sq += (percentile_5 ** 2).sum().item()\n",
    "\n",
    "        total_elements += percentile_5.size(0)\n",
    "\n",
    "    mean = mean_sum / total_elements\n",
    "    var = mean_sum_sq / total_elements - mean ** 2\n",
    "\n",
    "    print(f\"Mean of <h_t,  w_t - w_i> for w_t != w_i: {mean}\")\n",
    "    print(f\"Variance of <h_t,  w_t - w_i> for w_t != w_i: {var}\")\n",
    "    return torch.hstack(percentile_5_all).numpy()"
   ]
  },
  {
   "cell_type": "code",
   "execution_count": 88,
   "id": "bcbbd297",
   "metadata": {},
   "outputs": [
    {
     "name": "stdout",
     "output_type": "stream",
     "text": [
      "gpt2\n",
      "Mean of w_t norms: 3.9585366249084473\n",
      "Variance of w_t norms: 0.43368640542030334\n",
      "Mean of h_t norms: 325.51611328125\n",
      "Variance of h_t norms: 7.914751052856445\n"
     ]
    },
    {
     "name": "stderr",
     "output_type": "stream",
     "text": [
      "100%|██████████| 51/51 [00:20<00:00,  2.50it/s]\n"
     ]
    },
    {
     "name": "stdout",
     "output_type": "stream",
     "text": [
      "Mean of <h_t,  w_t - w_i> for w_t != w_i: 0.028726815612833655\n",
      "Variance of <h_t,  w_t - w_i> for w_t != w_i: 2.061642933913249e-05\n",
      "gpt2_init\n",
      "Mean of w_t norms: 0.5540507435798645\n",
      "Variance of w_t norms: 0.014170287176966667\n",
      "Mean of h_t norms: 27.371440887451172\n",
      "Variance of h_t norms: 0.01720152050256729\n"
     ]
    },
    {
     "name": "stderr",
     "output_type": "stream",
     "text": [
      "100%|██████████| 51/51 [00:24<00:00,  2.06it/s]\n"
     ]
    },
    {
     "name": "stdout",
     "output_type": "stream",
     "text": [
      "Mean of <h_t,  w_t - w_i> for w_t != w_i: 0.9398210911369661\n",
      "Variance of <h_t,  w_t - w_i> for w_t != w_i: 2.455106286936015e-06\n",
      "gpt2-medium\n",
      "Mean of w_t norms: 3.684203624725342\n",
      "Variance of w_t norms: 0.40357089042663574\n",
      "Mean of h_t norms: 340.6470031738281\n",
      "Variance of h_t norms: 13.759939193725586\n"
     ]
    },
    {
     "name": "stderr",
     "output_type": "stream",
     "text": [
      "100%|██████████| 51/51 [00:39<00:00,  1.29it/s]\n"
     ]
    },
    {
     "name": "stdout",
     "output_type": "stream",
     "text": [
      "Mean of <h_t,  w_t - w_i> for w_t != w_i: 0.04290915405569766\n",
      "Variance of <h_t,  w_t - w_i> for w_t != w_i: 5.0639477769683734e-05\n",
      "gpt2-medium_init\n",
      "Mean of w_t norms: 0.6397746801376343\n",
      "Variance of w_t norms: 0.014208591543138027\n",
      "Mean of h_t norms: 31.60614013671875\n",
      "Variance of h_t norms: 0.017211029306054115\n"
     ]
    },
    {
     "name": "stderr",
     "output_type": "stream",
     "text": [
      "100%|██████████| 51/51 [00:40<00:00,  1.27it/s]\n"
     ]
    },
    {
     "name": "stdout",
     "output_type": "stream",
     "text": [
      "Mean of <h_t,  w_t - w_i> for w_t != w_i: 0.9479728131121854\n",
      "Variance of <h_t,  w_t - w_i> for w_t != w_i: 1.4017910671126899e-06\n",
      "gpt2-large\n",
      "Mean of w_t norms: 2.0462563037872314\n",
      "Variance of w_t norms: 0.26776736974716187\n",
      "Mean of h_t norms: 47.85879135131836\n",
      "Variance of h_t norms: 0.346957802772522\n"
     ]
    },
    {
     "name": "stderr",
     "output_type": "stream",
     "text": [
      "100%|██████████| 51/51 [00:42<00:00,  1.21it/s]\n"
     ]
    },
    {
     "name": "stdout",
     "output_type": "stream",
     "text": [
      "Mean of <h_t,  w_t - w_i> for w_t != w_i: 0.8157517272838702\n",
      "Variance of <h_t,  w_t - w_i> for w_t != w_i: 0.0021997499289629907\n",
      "gpt2-large_init\n",
      "Mean of w_t norms: 0.715506374835968\n",
      "Variance of w_t norms: 0.014120807871222496\n",
      "Mean of h_t norms: 35.33721160888672\n",
      "Variance of h_t norms: 0.017068281769752502\n"
     ]
    },
    {
     "name": "stderr",
     "output_type": "stream",
     "text": [
      "100%|██████████| 51/51 [00:46<00:00,  1.10it/s]\n"
     ]
    },
    {
     "name": "stdout",
     "output_type": "stream",
     "text": [
      "Mean of <h_t,  w_t - w_i> for w_t != w_i: 0.9535162106129961\n",
      "Variance of <h_t,  w_t - w_i> for w_t != w_i: 8.976526046922118e-07\n",
      "gpt2-xl\n",
      "Mean of w_t norms: 1.9148160219192505\n",
      "Variance of w_t norms: 0.2344222068786621\n",
      "Mean of h_t norms: 53.882057189941406\n",
      "Variance of h_t norms: 0.28849589824676514\n"
     ]
    },
    {
     "name": "stderr",
     "output_type": "stream",
     "text": [
      "100%|██████████| 51/51 [00:53<00:00,  1.05s/it]\n"
     ]
    },
    {
     "name": "stdout",
     "output_type": "stream",
     "text": [
      "Mean of <h_t,  w_t - w_i> for w_t != w_i: 0.8398551446784233\n",
      "Variance of <h_t,  w_t - w_i> for w_t != w_i: 0.001678654400853019\n",
      "gpt2-xl_init\n",
      "Mean of w_t norms: 0.799909770488739\n",
      "Variance of w_t norms: 0.014127794653177261\n",
      "Mean of h_t norms: 39.50833511352539\n",
      "Variance of h_t norms: 0.017071105539798737\n"
     ]
    },
    {
     "name": "stderr",
     "output_type": "stream",
     "text": [
      "100%|██████████| 51/51 [00:59<00:00,  1.16s/it]"
     ]
    },
    {
     "name": "stdout",
     "output_type": "stream",
     "text": [
      "Mean of <h_t,  w_t - w_i> for w_t != w_i: 0.9584696889433624\n",
      "Variance of <h_t,  w_t - w_i> for w_t != w_i: 5.934279190267233e-07\n"
     ]
    },
    {
     "name": "stderr",
     "output_type": "stream",
     "text": [
      "\n"
     ]
    }
   ],
   "source": [
    "gamma_percentile_5_for_w_i = dict()\n",
    "for model_name in ['gpt2', 'gpt2-medium', 'gpt2-large', 'gpt2-xl']:\n",
    "    print(model_name)\n",
    "    gamma_percentile_5_for_w_i[model_name] = get_gamma_percentile_5_for_w_i(model_name)\n",
    "    print(model_name+'_init')\n",
    "    gamma_percentile_5_for_w_i[model_name+'_init'] = get_gamma_percentile_5_for_w_i(model_name, load=False)"
   ]
  },
  {
   "cell_type": "code",
   "execution_count": null,
   "id": "a340802d",
   "metadata": {},
   "outputs": [],
   "source": []
  },
  {
   "cell_type": "code",
   "execution_count": 27,
   "id": "76cc5a43",
   "metadata": {},
   "outputs": [
    {
     "data": {
      "image/png": "[encoded data removed]",
      "text/plain": [
       "<Figure size 432x288 with 1 Axes>"
      ]
     },
     "metadata": {
      "needs_background": "light"
     },
     "output_type": "display_data"
    }
   ],
   "source": [
    "import matplotlib.pyplot as plt\n",
    "\n",
    "for model_name in percentile_5_all:\n",
    "    if 'init' in model_name:\n",
    "        continue\n",
    "    plt.hist(percentile_5_all[model_name], bins=100, label=model_name, alpha=0.3)\n",
    "#     plt.hist(percentile_5_all[model_name+'_init'], bins=100, label=model_name, alpha=0.3)\n",
    "\n",
    "plt.legend()\n",
    "plt.show()"
   ]
  },
  {
   "cell_type": "code",
   "execution_count": 67,
   "id": "af2d17be",
   "metadata": {},
   "outputs": [
    {
     "data": {
      "image/png": "[encoded data removed]",
      "text/plain": [
       "<Figure size 432x288 with 1 Axes>"
      ]
     },
     "metadata": {
      "needs_background": "light"
     },
     "output_type": "display_data"
    }
   ],
   "source": [
    "import matplotlib.pyplot as plt\n",
    "\n",
    "for model_name in percentile_5_for_w_i:\n",
    "    if 'init' in model_name:\n",
    "        continue\n",
    "    plt.hist(percentile_5_for_w_i[model_name], bins=100, label=model_name, alpha=0.3)\n",
    "#     plt.hist(percentile_5_all[model_name+'_init'], bins=100, label=model_name, alpha=0.3)\n",
    "\n",
    "plt.legend()\n",
    "plt.show()"
   ]
  },
  {
   "cell_type": "code",
   "execution_count": 74,
   "id": "eaef5615",
   "metadata": {},
   "outputs": [
    {
     "data": {
      "image/png": "[encoded data removed]",
      "text/plain": [
       "<Figure size 432x288 with 1 Axes>"
      ]
     },
     "metadata": {
      "needs_background": "light"
     },
     "output_type": "display_data"
    }
   ],
   "source": [
    "import matplotlib.pyplot as plt\n",
    "\n",
    "for model_name in alpha_percentile_5_for_w_i:\n",
    "    if 'init' in model_name:\n",
    "        continue\n",
    "    plt.hist(alpha_percentile_5_for_w_i[model_name], bins=100, label=model_name, alpha=0.3)\n",
    "#     plt.hist(percentile_5_all[model_name+'_init'], bins=100, label=model_name, alpha=0.3)\n",
    "\n",
    "plt.legend()\n",
    "plt.show()"
   ]
  },
  {
   "cell_type": "code",
   "execution_count": 86,
   "id": "60da710a",
   "metadata": {},
   "outputs": [
    {
     "data": {
      "image/png": "[encoded data removed]",
      "text/plain": [
       "<Figure size 432x288 with 1 Axes>"
      ]
     },
     "metadata": {
      "needs_background": "light"
     },
     "output_type": "display_data"
    }
   ],
   "source": [
    "import matplotlib.pyplot as plt\n",
    "\n",
    "for model_name in betta_percentile_5_for_w_i:\n",
    "    if 'init' in model_name:\n",
    "        continue\n",
    "    plt.hist(betta_percentile_5_for_w_i[model_name], bins=100, label=model_name, alpha=0.3)\n",
    "#     plt.hist(betta_percentile_5_for_w_i[model_name+'_init'], bins=100, label=model_name, alpha=0.3)\n",
    "\n",
    "plt.legend()\n",
    "plt.show()"
   ]
  },
  {
   "cell_type": "code",
   "execution_count": 116,
   "id": "73971f72",
   "metadata": {},
   "outputs": [
    {
     "data": {
      "image/png": "[encoded data removed]",
      "text/plain": [
       "<Figure size 432x288 with 1 Axes>"
      ]
     },
     "metadata": {
      "needs_background": "light"
     },
     "output_type": "display_data"
    }
   ],
   "source": [
    "import matplotlib.pyplot as plt\n",
    "\n",
    "for model_name in [\n",
    "    'gpt2', 'gpt2-medium', \n",
    "    'gpt2-large', 'gpt2-xl'\n",
    "]:\n",
    "    if 'init' in model_name:\n",
    "        continue\n",
    "    plt.hist(gamma_percentile_5_for_w_i[model_name], bins=100, label=model_name, alpha=0.3)\n",
    "#     plt.hist(betta_percentile_5_for_w_i[model_name+'_init'], bins=100, label=model_name, alpha=0.3)\n",
    "\n",
    "plt.legend()\n",
    "plt.show()"
   ]
  },
  {
   "cell_type": "code",
   "execution_count": 75,
   "id": "33d38684",
   "metadata": {},
   "outputs": [
    {
     "data": {
      "text/plain": [
       "[<matplotlib.lines.Line2D at 0x7febb47953d0>]"
      ]
     },
     "execution_count": 75,
     "metadata": {},
     "output_type": "execute_result"
    },
    {
     "data": {
      "image/png": "[encoded data removed]",
      "text/plain": [
       "<Figure size 432x288 with 1 Axes>"
      ]
     },
     "metadata": {
      "needs_background": "light"
     },
     "output_type": "display_data"
    }
   ],
   "source": [
    "x = [768, 1024, 1280, 1600]\n",
    "y = [14.25, 19.17, 24.10, 30.29]\n",
    "y2 = [42.87, 60.55, 79.00, 85.96]\n",
    "y3 = [32.97, 49.05, 70.04, 75.52]\n",
    "y4 = [9.64, 15.32, 38.98, 45.18]\n",
    "\n",
    "plt.scatter(x, y4)\n",
    "plt.plot(x, y4)\n",
    "plt.scatter(x, y3)\n",
    "plt.plot(x, y3)\n",
    "plt.scatter(x, y2)\n",
    "plt.plot(x, y2)\n",
    "plt.scatter(x, y)\n",
    "plt.plot(x, y)"
   ]
  },
  {
   "cell_type": "code",
   "execution_count": 26,
   "id": "73696987",
   "metadata": {},
   "outputs": [
    {
     "name": "stdout",
     "output_type": "stream",
     "text": [
      "0.0185546875\n",
      "0.018720703125\n",
      "0.018828125\n",
      "0.01893125\n"
     ]
    }
   ],
   "source": [
    "for xx, yy in zip(x, y):\n",
    "    print(yy/xx)"
   ]
  },
  {
   "cell_type": "code",
   "execution_count": null,
   "id": "f12bb27f",
   "metadata": {},
   "outputs": [],
   "source": []
  },
  {
   "cell_type": "code",
   "execution_count": 164,
   "id": "d9937321",
   "metadata": {},
   "outputs": [],
   "source": [
    "from nanoGPT.model import GPTConfig, GPT\n",
    "# init from a model saved in a specific directory\n",
    "\n",
    "def get_percentile_5(ckpt_path, load=True):\n",
    "    checkpoint = torch.load(ckpt_path, map_location='cpu')\n",
    "    gptconf = GPTConfig(**checkpoint['model_args'])\n",
    "    weight_tying = True\n",
    "    model = GPT(gptconf, weight_tying=weight_tying)\n",
    "    state_dict = checkpoint['model']\n",
    "    unwanted_prefix = '_orig_mod.'\n",
    "    for k,v in list(state_dict.items()):\n",
    "        if k.startswith(unwanted_prefix):\n",
    "            state_dict[k[len(unwanted_prefix):]] = state_dict.pop(k)\n",
    "    if load:\n",
    "        model.load_state_dict(state_dict)\n",
    "    # Extract the language model head (unembedding layer)\n",
    "    lm_head = model.lm_head  # This is the linear layer that maps hidden states back to vocabulary\n",
    "\n",
    "    # Since GPT-2 uses tied embeddings, the lm_head weight matrix is the same as the input embeddings\n",
    "    w_t = lm_head.weight.data  # This is the weight matrix [vocab_size, d_model]\n",
    "    gamma = model.transformer.ln_f.weight.data\n",
    "    h_t = model.transformer.ln_f(gamma*w_t).data\n",
    "    \n",
    "    w_t_norm = torch.norm(w_t, dim=1)\n",
    "    h_t_norm = torch.norm(h_t, dim=1)\n",
    "\n",
    "    # Output results\n",
    "    print(f\"Mean of w_t norms: {torch.norm(w_t, dim=1).mean()}\")\n",
    "    print(f\"Variance of w_t norms: {torch.norm(w_t, dim=1).std()}\")\n",
    "\n",
    "    # Output results\n",
    "    print(f\"Mean of h_t norms: {torch.norm(h_t, dim=1).mean()}\")\n",
    "    print(f\"Variance of h_t norms: {torch.norm(h_t, dim=1).std()}\")\n",
    "\n",
    "\n",
    "    h_t_w_t = (h_t * w_t).sum(axis=1)\n",
    "\n",
    "    # Set the batch size\n",
    "    batch_size = 1000\n",
    "    vocab_size = w_t.size(0)\n",
    "    num_batches = vocab_size // batch_size + (vocab_size % batch_size != 0)\n",
    "\n",
    "    mean_sum = 0.0\n",
    "    mean_sum_sq = 0.0\n",
    "    var_sum = 0.0\n",
    "\n",
    "    total_elements = 0\n",
    "\n",
    "    percentile_5_all = []\n",
    "\n",
    "    for i in tqdm(range(0, vocab_size, batch_size)):\n",
    "        batch_end = min(i + batch_size, vocab_size)\n",
    "        batch_w_t = w_t[i:batch_end]\n",
    "        batch_h_t = h_t[i:batch_end]\n",
    "\n",
    "#         # 4. <h_t, w_i> for w_t != w_i (in batches)\n",
    "#         batch_h_t_w_i = torch.matmul(batch_h_t, w_t.T)\n",
    "\n",
    "#         # 5. <h_t, w_t - w_i> for w_t != w_i (in batches)\n",
    "#         h_t_w_t_minus_w_i = h_t_w_t[i:batch_end].unsqueeze(1) - batch_h_t_w_i\n",
    "#         percentile_5 = torch.kthvalue(h_t_w_t_minus_w_i, 7, dim=1).values\n",
    "        \n",
    "        # 4. <h_t, w_i> for w_t != w_i (in batches)\n",
    "        batch_h_t_w_i = torch.matmul(h_t, batch_w_t.T)\n",
    "\n",
    "        # 5. <h_t, w_t - w_i> for w_t != w_i (in batches)\n",
    "#         h_t_w_t_minus_w_i = (h_t_w_t.unsqueeze(1) - batch_h_t_w_i).T\n",
    "        h_t_w_t_minus_w_i = ((h_t_w_t.unsqueeze(1) - batch_h_t_w_i)/(h_t_norm * w_t_norm).unsqueeze(1)).T\n",
    "        percentile_5 = torch.kthvalue(h_t_w_t_minus_w_i, 65, dim=1).values\n",
    "\n",
    "        percentile_5_all.append(percentile_5)\n",
    "        mean_sum += percentile_5.sum().item()\n",
    "        mean_sum_sq += (percentile_5 ** 2).sum().item()\n",
    "\n",
    "        total_elements += percentile_5.size(0)\n",
    "\n",
    "    mean = mean_sum / total_elements\n",
    "    var = mean_sum_sq / total_elements - mean ** 2\n",
    "\n",
    "    print(f\"Mean of <h_t,  w_t - w_i> for w_t != w_i: {mean}\")\n",
    "    print(f\"Variance of <h_t,  w_t - w_i> for w_t != w_i: {var}\")\n",
    "    return torch.hstack(percentile_5_all).numpy(), batch_h_t_w_i, w_t"
   ]
  },
  {
   "cell_type": "code",
   "execution_count": 165,
   "id": "0148a1d2",
   "metadata": {},
   "outputs": [
    {
     "name": "stdout",
     "output_type": "stream",
     "text": [
      "nanoGPT/out/proposed_margin_by_weight_type_3_alpha_0.0625_SE/ckpt.pt\n",
      "number of parameters: 0.80M\n"
     ]
    },
    {
     "name": "stderr",
     "output_type": "stream",
     "text": [
      "/tmp/ipykernel_292/2556486887.py:5: FutureWarning: You are using `torch.load` with `weights_only=False` (the current default value), which uses the default pickle module implicitly. It is possible to construct malicious pickle data which will execute arbitrary code during unpickling (See https://github.com/pytorch/pytorch/blob/main/SECURITY.md#untrusted-models for more details). In a future release, the default value for `weights_only` will be flipped to `True`. This limits the functions that could be executed during unpickling. Arbitrary objects will no longer be allowed to be loaded via this mode unless they are explicitly allowlisted by the user via `torch.serialization.add_safe_globals`. We recommend you start setting `weights_only=True` for any use case where you don't have full control of the loaded file. Please open an issue on GitHub for any issues related to this experimental feature.\n",
      "  checkpoint = torch.load(ckpt_path, map_location='cpu')\n"
     ]
    },
    {
     "name": "stdout",
     "output_type": "stream",
     "text": [
      "Mean of w_t norms: 0.5574177503585815\n",
      "Variance of w_t norms: 0.06936384737491608\n",
      "Mean of h_t norms: 9.458022117614746\n",
      "Variance of h_t norms: 0.10536954551935196\n"
     ]
    },
    {
     "name": "stderr",
     "output_type": "stream",
     "text": [
      "100%|██████████| 1/1 [00:00<00:00, 99.05it/s]"
     ]
    },
    {
     "name": "stdout",
     "output_type": "stream",
     "text": [
      "Mean of <h_t,  w_t - w_i> for w_t != w_i: 0.9570445720966045\n",
      "Variance of <h_t,  w_t - w_i> for w_t != w_i: 0.001996113984820136\n",
      "nanoGPT/out/proposed_margin_1.0_separated_embeddings/ckpt.pt\n",
      "number of parameters: 0.80M\n"
     ]
    },
    {
     "name": "stderr",
     "output_type": "stream",
     "text": [
      "\n"
     ]
    },
    {
     "name": "stdout",
     "output_type": "stream",
     "text": [
      "Mean of w_t norms: 0.6109256744384766\n",
      "Variance of w_t norms: 0.07702957838773727\n",
      "Mean of h_t norms: 11.347818374633789\n",
      "Variance of h_t norms: 0.11545183509588242\n"
     ]
    },
    {
     "name": "stderr",
     "output_type": "stream",
     "text": [
      "100%|██████████| 1/1 [00:00<00:00, 89.29it/s]"
     ]
    },
    {
     "name": "stdout",
     "output_type": "stream",
     "text": [
      "Mean of <h_t,  w_t - w_i> for w_t != w_i: 0.9183500436636117\n",
      "Variance of <h_t,  w_t - w_i> for w_t != w_i: 0.005491605130566568\n",
      "nanoGPT/out/proposed_margin_1/ckpt.pt\n",
      "number of parameters: 0.80M\n"
     ]
    },
    {
     "name": "stderr",
     "output_type": "stream",
     "text": [
      "\n"
     ]
    },
    {
     "name": "stdout",
     "output_type": "stream",
     "text": [
      "Mean of w_t norms: 0.6107277274131775\n",
      "Variance of w_t norms: 0.08878485858440399\n",
      "Mean of h_t norms: 11.244767189025879\n",
      "Variance of h_t norms: 0.10734023153781891\n"
     ]
    },
    {
     "name": "stderr",
     "output_type": "stream",
     "text": [
      "100%|██████████| 1/1 [00:00<00:00, 53.06it/s]"
     ]
    },
    {
     "name": "stdout",
     "output_type": "stream",
     "text": [
      "Mean of <h_t,  w_t - w_i> for w_t != w_i: 0.9083449143629808\n",
      "Variance of <h_t,  w_t - w_i> for w_t != w_i: 0.006660474333360922\n",
      "nanoGPT/out/baseline/ckpt.pt\n",
      "number of parameters: 0.80M\n"
     ]
    },
    {
     "name": "stderr",
     "output_type": "stream",
     "text": [
      "\n"
     ]
    },
    {
     "name": "stdout",
     "output_type": "stream",
     "text": [
      "Mean of w_t norms: 0.9278639554977417\n",
      "Variance of w_t norms: 0.3647285997867584\n",
      "Mean of h_t norms: 17.92854881286621\n",
      "Variance of h_t norms: 0.17443130910396576\n"
     ]
    },
    {
     "name": "stderr",
     "output_type": "stream",
     "text": [
      "100%|██████████| 1/1 [00:00<00:00, 45.83it/s]"
     ]
    },
    {
     "name": "stdout",
     "output_type": "stream",
     "text": [
      "Mean of <h_t,  w_t - w_i> for w_t != w_i: 0.8245567908653846\n",
      "Variance of <h_t,  w_t - w_i> for w_t != w_i: 0.03057198468044664\n"
     ]
    },
    {
     "name": "stderr",
     "output_type": "stream",
     "text": [
      "\n"
     ]
    }
   ],
   "source": [
    "percentile_5_all = dict()\n",
    "batch_h_t_w_i = dict()\n",
    "w_t = dict()\n",
    "\n",
    "for ckpt_path in [\n",
    "    'nanoGPT/out/proposed_margin_by_weight_type_3_alpha_0.0625_SE/ckpt.pt',\n",
    "    'nanoGPT/out/proposed_margin_1.0_separated_embeddings/ckpt.pt',\n",
    "    'nanoGPT/out/proposed_margin_1/ckpt.pt',\n",
    "    'nanoGPT/out/baseline/ckpt.pt'\n",
    "]:\n",
    "    print(ckpt_path)\n",
    "    percentile_5_all[ckpt_path], batch_h_t_w_i[ckpt_path], w_t[ckpt_path] = get_percentile_5(ckpt_path)"
   ]
  },
  {
   "cell_type": "code",
   "execution_count": 166,
   "id": "a6587fa2",
   "metadata": {},
   "outputs": [
    {
     "name": "stderr",
     "output_type": "stream",
     "text": [
      "/tmp/ipykernel_292/2556486887.py:5: FutureWarning: You are using `torch.load` with `weights_only=False` (the current default value), which uses the default pickle module implicitly. It is possible to construct malicious pickle data which will execute arbitrary code during unpickling (See https://github.com/pytorch/pytorch/blob/main/SECURITY.md#untrusted-models for more details). In a future release, the default value for `weights_only` will be flipped to `True`. This limits the functions that could be executed during unpickling. Arbitrary objects will no longer be allowed to be loaded via this mode unless they are explicitly allowlisted by the user via `torch.serialization.add_safe_globals`. We recommend you start setting `weights_only=True` for any use case where you don't have full control of the loaded file. Please open an issue on GitHub for any issues related to this experimental feature.\n",
      "  checkpoint = torch.load(ckpt_path, map_location='cpu')\n"
     ]
    },
    {
     "name": "stdout",
     "output_type": "stream",
     "text": [
      "number of parameters: 0.80M\n",
      "Mean of w_t norms: 0.22540198266506195\n",
      "Variance of w_t norms: 0.013307780027389526\n",
      "Mean of h_t norms: 11.171341896057129\n",
      "Variance of h_t norms: 0.01643950678408146\n"
     ]
    },
    {
     "name": "stderr",
     "output_type": "stream",
     "text": [
      "100%|██████████| 1/1 [00:00<00:00, 77.66it/s]"
     ]
    },
    {
     "name": "stdout",
     "output_type": "stream",
     "text": [
      "Mean of <h_t,  w_t - w_i> for w_t != w_i: 0.9934810931865986\n",
      "Variance of <h_t,  w_t - w_i> for w_t != w_i: 0.00011619526020811843\n"
     ]
    },
    {
     "name": "stderr",
     "output_type": "stream",
     "text": [
      "\n"
     ]
    }
   ],
   "source": [
    "percentile_5_all['init'], batch_h_t_w_i['init'], w_t['init'] = get_percentile_5(ckpt_path, load=False)"
   ]
  },
  {
   "cell_type": "code",
   "execution_count": 103,
   "id": "d4c854c7",
   "metadata": {},
   "outputs": [
    {
     "data": {
      "image/png": "[encoded data removed]",
      "text/plain": [
       "<Figure size 432x288 with 1 Axes>"
      ]
     },
     "metadata": {
      "needs_background": "light"
     },
     "output_type": "display_data"
    }
   ],
   "source": [
    "for model_name in percentile_5_all:\n",
    "    plt.hist(percentile_5_all[model_name], label=model_name, alpha=0.2)\n",
    "plt.legend()\n",
    "plt.show()"
   ]
  },
  {
   "cell_type": "code",
   "execution_count": 105,
   "id": "2498f9af",
   "metadata": {},
   "outputs": [],
   "source": [
    "def update_x(x):\n",
    "    if x == ' ':\n",
    "        return '\\\\s'\n",
    "    elif x == '\\n':\n",
    "        return '\\\\n'\n",
    "    return x\n",
    "\n",
    "def get_token(i_s):\n",
    "    result = []\n",
    "    for i in i_s:\n",
    "        if i < 65:\n",
    "            result.append('b'+update_x(decode([i])))\n",
    "        else:\n",
    "            result.append('s'+update_x(decode([i-65])))\n",
    "    return result"
   ]
  },
  {
   "cell_type": "code",
   "execution_count": 106,
   "id": "1363f494",
   "metadata": {},
   "outputs": [],
   "source": [
    "import numpy as np\n",
    "import os\n",
    "import pickle\n",
    "from collections import Counter\n",
    "\n",
    "meta_path = 'nanoGPT/data/shakespeare_char/meta.pkl'\n",
    "load_meta = os.path.exists(meta_path)\n",
    "with open(meta_path, 'rb') as f:\n",
    "    meta = pickle.load(f)\n",
    "    # TODO want to make this more general to arbitrary encoder/decoder schemes\n",
    "stoi, itos = meta['stoi'], meta['itos']\n",
    "encode = lambda s: [stoi[c] for c in s]\n",
    "decode = lambda l: ''.join([itos[i] for i in l])\n",
    "\n",
    "data_dir = 'nanoGPT/data/shakespeare_char'\n",
    "data = np.memmap(os.path.join(data_dir, 'train.bin'), dtype=np.uint16, mode='r')\n",
    "\n",
    "counter = Counter(data)\n",
    "counts = np.array(sorted(counter.values(), reverse=True))\n",
    "\n",
    "sorted_tokens = np.array([token for token, _ in counter.most_common()])\n"
   ]
  },
  {
   "cell_type": "code",
   "execution_count": 107,
   "id": "b65b3ef4",
   "metadata": {},
   "outputs": [],
   "source": [
    "sorted_tokens = np.hstack([sorted_tokens, sorted_tokens + 65])"
   ]
  },
  {
   "cell_type": "code",
   "execution_count": 108,
   "id": "a8f8dc90",
   "metadata": {},
   "outputs": [
    {
     "data": {
      "image/png": "[encoded data removed]",
      "text/plain": [
       "<Figure size 432x288 with 1 Axes>"
      ]
     },
     "metadata": {
      "needs_background": "light"
     },
     "output_type": "display_data"
    }
   ],
   "source": [
    "import torch.nn.functional as F\n",
    "\n",
    "for model_name in batch_h_t_w_i:\n",
    "    plt.plot(F.softmax(batch_h_t_w_i[model_name], dim=1).diag()[sorted_tokens], label=model_name, alpha=0.5)\n",
    "plt.legend()\n",
    "plt.show()"
   ]
  }
 ],
 "metadata": {
  "kernelspec": {
   "display_name": "Python 3 (ipykernel)",
   "language": "python",
   "name": "python3"
  },
  "language_info": {
   "codemirror_mode": {
    "name": "ipython",
    "version": 3
   },
   "file_extension": ".py",
   "mimetype": "text/x-python",
   "name": "python",
   "nbconvert_exporter": "python",
   "pygments_lexer": "ipython3",
   "version": "3.9.10"
  },
  "vscode": {
   "interpreter": {
    "hash": "7e1998ff7f8aa20ada591c520b972326324e5ea05489af9e422744c7c09f6dad"
   }
  }
 },
 "nbformat": 4,
 "nbformat_minor": 5
}
